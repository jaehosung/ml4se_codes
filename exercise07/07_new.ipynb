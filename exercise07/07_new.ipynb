{
 "cells": [
  {
   "cell_type": "code",
   "execution_count": 3,
   "id": "2039fdd8",
   "metadata": {},
   "outputs": [],
   "source": [
    "import numpy as np\n",
    "import matplotlib.pyplot as plt\n",
    "import pandas as pd\n",
    "from pandas import Series, DataFrame\n",
    "from numpy.random import randint, rand"
   ]
  },
  {
   "cell_type": "code",
   "execution_count": 20,
   "id": "d44e4f82",
   "metadata": {},
   "outputs": [
    {
     "name": "stdout",
     "output_type": "stream",
     "text": [
      "(600, 784)\n"
     ]
    }
   ],
   "source": [
    "df = pd.read_csv('sample-images.txt', sep=\",\", header=None)\n",
    "print(df.shape) # (600,784) 행렬\n",
    "data_num = len(df)"
   ]
  },
  {
   "cell_type": "code",
   "execution_count": 10,
   "id": "8f3d091d",
   "metadata": {},
   "outputs": [],
   "source": [
    "K = 3\n",
    "mu = (rand(28*28*K)*0.5+0.25).reshape(K, 28*28)"
   ]
  },
  {
   "cell_type": "code",
   "execution_count": 12,
   "id": "0c5cbc89",
   "metadata": {},
   "outputs": [
    {
     "name": "stdout",
     "output_type": "stream",
     "text": [
      "[0.39336745 0.29216357 0.96546564 ... 0.55699435 0.72360811 0.24546351]\n"
     ]
    }
   ],
   "source": [
    "print(rand(28*28*K))"
   ]
  }
 ],
 "metadata": {
  "kernelspec": {
   "display_name": "Python 3",
   "language": "python",
   "name": "python3"
  },
  "language_info": {
   "codemirror_mode": {
    "name": "ipython",
    "version": 3
   },
   "file_extension": ".py",
   "mimetype": "text/x-python",
   "name": "python",
   "nbconvert_exporter": "python",
   "pygments_lexer": "ipython3",
   "version": "3.9.4"
  }
 },
 "nbformat": 4,
 "nbformat_minor": 5
}
