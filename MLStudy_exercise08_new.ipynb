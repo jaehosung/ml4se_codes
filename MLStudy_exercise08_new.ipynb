{
 "cells": [
  {
   "cell_type": "code",
   "execution_count": 190,
   "metadata": {
    "collapsed": true
   },
   "outputs": [],
   "source": [
    "# 베이스 추정에 의한 회귀 분석\n",
    "import numpy as np\n",
    "import matplotlib.pyplot as plt\n",
    "import pandas as pd"
   ]
  },
  {
   "cell_type": "code",
   "execution_count": 2,
   "outputs": [],
   "source": [
    "#파라미터 설정\n",
    "beta_true = 1.0 / (0.3) ** 2\n",
    "alpha = 1.0 / 100 ** 2\n",
    "M = 9  # 다항식 차수\n",
    "N_list = [4, 5, 10, 100]\n",
    "beta = beta_true"
   ],
   "metadata": {
    "collapsed": false,
    "pycharm": {
     "name": "#%%\n"
    }
   }
  },
  {
   "cell_type": "code",
   "execution_count": 199,
   "outputs": [],
   "source": [
    "# 트레이닝 셋 {x_n,y_n} (n=1...N) 을 준비\n",
    "def generate_training_set(num):\n",
    "    dataset = pd.DataFrame(columns=[\"x\", \"y\"])\n",
    "    for idx in range(num):\n",
    "        x = float(idx) / float(num - 1)\n",
    "        y = np.sin(2.0 * np.pi * x) + np.random.normal(scale=0.3)\n",
    "        dataset = dataset.append(pd.Series([x, y], index=[\"x\", \"y\"]), ignore_index=True)\n",
    "    return dataset\n",
    "\n",
    "# 평균 m(x)\n",
    "# phi.T: (size=(1,M+1))\n",
    "# S: (size=(M+1,M+1))\n",
    "# sigma_t_phi: (size=(M+1,1))\n",
    "def mean_fun(x):\n",
    "    t = training_set.y\n",
    "    phi_x = np.array([x ** i for i in range(0, m + 1)])\n",
    "    sigma_t_phi= np.sum(np.multiply(t.values[:,np.newaxis],phis.values),axis = 0)\n",
    "    #TODO flatten지웠는데 괜찮을까?\n",
    "    # m_x = np.linalg.multi_dot([beta*phi_x.T, s, sum]).flatten()\n",
    "    m_x = np.linalg.multi_dot([beta*phi_x.T, s, sigma_t_phi]).flatten()\n",
    "    return m_x\n",
    "\n",
    "# TODO: 분산이 계산된거니 표준편차로 바꿔서 대입시키기\n",
    "def deviation_fun(x):\n",
    "    phi_x = pd.DataFrame([x ** i for i in range(0, m + 1)])\n",
    "    variance = 1.0 / beta + np.linalg.multi_dot([phi_x.T, s, phi_x])\n",
    "    # TODO diagonal()제거 했는데 괜찮을지 확인하기\n",
    "    # return variance.diagonal()\n",
    "\n",
    "    return np.sqrt(variance).diagonal()\n",
    "\n",
    "# TODO: 분산이 계산된거니 표준편차로 바꿔서 대입시키기\n",
    "def variance_fun(x):\n",
    "    phi_x = pd.DataFrame([x ** i for i in range(0, m + 1)])\n",
    "    variance = 1.0 / beta + np.linalg.multi_dot([phi_x.T, s, phi_x])\n",
    "    # TODO diagonal()제거 했는데 괜찮을지 확인하기\n",
    "    # return variance.diagonal()\n",
    "    return variance"
   ],
   "metadata": {
    "collapsed": false,
    "pycharm": {
     "name": "#%%\n"
    }
   }
  },
  {
   "cell_type": "code",
   "execution_count": 231,
   "outputs": [
    {
     "name": "stderr",
     "output_type": "stream",
     "text": [
      "<ipython-input-199-9b907a3a763b>:30: RuntimeWarning: invalid value encountered in sqrt\n",
      "  return np.sqrt(variance).diagonal()\n",
      "<ipython-input-199-9b907a3a763b>:30: RuntimeWarning: invalid value encountered in sqrt\n",
      "  return np.sqrt(variance).diagonal()\n",
      "<ipython-input-231-6b223f1d0815>:71: FutureWarning: Support for multi-dimensional indexing (e.g. `obj[:, None]`) is deprecated and will be removed in a future version.  Convert to a numpy array before indexing instead.\n",
      "  return np.multiply(ws[:,np.newaxis],x_n).sum(axis = 0)\n",
      "<ipython-input-231-6b223f1d0815>:71: FutureWarning: Support for multi-dimensional indexing (e.g. `obj[:, None]`) is deprecated and will be removed in a future version.  Convert to a numpy array before indexing instead.\n",
      "  return np.multiply(ws[:,np.newaxis],x_n).sum(axis = 0)\n",
      "<ipython-input-231-6b223f1d0815>:71: FutureWarning: Support for multi-dimensional indexing (e.g. `obj[:, None]`) is deprecated and will be removed in a future version.  Convert to a numpy array before indexing instead.\n",
      "  return np.multiply(ws[:,np.newaxis],x_n).sum(axis = 0)\n",
      "<ipython-input-231-6b223f1d0815>:71: FutureWarning: Support for multi-dimensional indexing (e.g. `obj[:, None]`) is deprecated and will be removed in a future version.  Convert to a numpy array before indexing instead.\n",
      "  return np.multiply(ws[:,np.newaxis],x_n).sum(axis = 0)\n",
      "<ipython-input-231-6b223f1d0815>:77: UserWarning: Matplotlib is currently using module://ipykernel.pylab.backend_inline, which is a non-GUI backend, so cannot show the figure.\n",
      "  fig1.show()\n",
      "<ipython-input-231-6b223f1d0815>:78: UserWarning: Matplotlib is currently using module://ipykernel.pylab.backend_inline, which is a non-GUI backend, so cannot show the figure.\n",
      "  fig2.show()\n"
     ]
    },
    {
     "data": {
      "text/plain": "<Figure size 432x288 with 1 Axes>",
      "image/png": "[encoded data removed]"
     },
     "metadata": {
      "needs_background": "light"
     },
     "output_type": "display_data"
    },
    {
     "data": {
      "text/plain": "<Figure size 432x288 with 1 Axes>",
      "image/png": "[encoded data removed]"
     },
     "metadata": {
      "needs_background": "light"
     },
     "output_type": "display_data"
    }
   ],
   "source": [
    "m = 9\n",
    "N = 5\n",
    "idx = 0\n",
    "training_set = generate_training_set(N)\n",
    "t = training_set.y\n",
    "\n",
    "phis = pd.DataFrame() # (size=(N,M+1))\n",
    "for i in range(0, m + 1):\n",
    "    p = training_set.x ** i\n",
    "    p.name = \"x**%d\" % i\n",
    "    phis = pd.concat([phis, p], axis=1)\n",
    "\n",
    "# 분산(S) 계산\n",
    "phiphi_sum = 0\n",
    "\n",
    "for _, phi in phis.iterrows():\n",
    "    phi = phi.values[:,np.newaxis] # reshape the phi (M+1,) to (M+1,1)\n",
    "    phiphi_sum += np.dot(phi,phi.T) # (size=(M+1,M+1))\n",
    "s_inv = alpha * pd.DataFrame(np.identity(m + 1)) + beta * phiphi_sum\n",
    "s = np.linalg.inv(s_inv)  # 사후분포의 공분산행렬\n",
    "\n",
    "sigma_t_phi= np.sum(np.multiply(t.values[:,np.newaxis],phis.values),axis = 0)\n",
    "mean = np.linalg.multi_dot([beta*s,sigma_t_phi])\n",
    "\n",
    "# Main\n",
    "fig1 = plt.figure()\n",
    "fig2 = plt.figure()\n",
    "\n",
    "df_ws = pd.DataFrame()\n",
    "ws_samples = pd.DataFrame(np.random.multivariate_normal(mean,s,4))\n",
    "\n",
    "subplot1 = fig1.add_subplot(2,2,c+1)\n",
    "subplot1.set_xlim(-0.05,1.05)\n",
    "subplot1.set_ylim(-2,2)\n",
    "subplot1.set_title(\"N=%d\" % N)\n",
    "\n",
    "subplot2 = fig2.add_subplot(2,2,c+1)\n",
    "subplot2.set_xlim(-0.05,1.05)\n",
    "subplot2.set_ylim(-2,2)\n",
    "subplot2.set_title(\"N=%d\" % N)\n",
    "\n",
    "# トレーニングセットを表示\n",
    "subplot1.scatter(training_set.x, training_set.y, marker='o', color='blue')\n",
    "subplot2.scatter(training_set.x, training_set.y, marker='o', color='blue')\n",
    "\n",
    "linex = np.arange(0,1.01,0.01)\n",
    "\n",
    "# 真の曲線を表示\n",
    "liney = np.sin(2*np.pi*linex)\n",
    "subplot1.plot(linex, liney, color='green',linestyle=':')\n",
    "\n",
    "# 平均と標準偏差の曲線を表示\n",
    "mu = np.array(mean_fun(linex))\n",
    "d = np.array(deviation_fun(linex))\n",
    "subplot1.plot(linex, mu, color='red', label='mean')\n",
    "subplot1.legend(loc=1)\n",
    "subplot1.plot(linex, mu - d, color='black', linestyle='--')\n",
    "subplot1.plot(linex, mu + d, color='black', linestyle='--')\n",
    "\n",
    "# 多項式のサンプルを表示\n",
    "mu = np.array(mean_fun(linex))\n",
    "d = np.array(deviation_fun(linex))\n",
    "liney = mu\n",
    "subplot2.plot(linex, liney, color='red', label=\"mean\")\n",
    "subplot2.legend(loc=1)\n",
    "\n",
    "def f(x,ws):\n",
    "    # x : (size=(n,1))\n",
    "    # ws : (size=(M+1))\n",
    "    x_n = np.array([x ** i for i in range(0, m + 1)])\n",
    "    return np.multiply(ws[:,np.newaxis],x_n).sum(axis = 0)\n",
    "\n",
    "for index, ws in ws_samples.iterrows():\n",
    "    liney = f(linex, ws)\n",
    "    subplot2.plot(linex, liney, color='red', linestyle='--')\n",
    "\n",
    "fig1.show()\n",
    "fig2.show()"
   ],
   "metadata": {
    "collapsed": false,
    "pycharm": {
     "name": "#%%\n"
    }
   }
  },
  {
   "cell_type": "code",
   "execution_count": null,
   "outputs": [],
   "source": [],
   "metadata": {
    "collapsed": false,
    "pycharm": {
     "name": "#%%\n"
    }
   }
  }
 ],
 "metadata": {
  "kernelspec": {
   "display_name": "Python 3",
   "language": "python",
   "name": "python3"
  },
  "language_info": {
   "codemirror_mode": {
    "name": "ipython",
    "version": 2
   },
   "file_extension": ".py",
   "mimetype": "text/x-python",
   "name": "python",
   "nbconvert_exporter": "python",
   "pygments_lexer": "ipython2",
   "version": "2.7.6"
  }
 },
 "nbformat": 4,
 "nbformat_minor": 0
}