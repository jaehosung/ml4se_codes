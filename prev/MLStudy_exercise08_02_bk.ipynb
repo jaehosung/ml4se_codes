{
 "cells": [
  {
   "cell_type": "code",
   "execution_count": null,
   "outputs": [],
   "source": [
    "\n",
    "#phis (size=(5,10))\n",
    "#tn (size = (5,)\n",
    "# phis.iloc[0]*t.iloc[0]\n",
    "M = 9\n",
    "N = 100\n",
    "training_set = generate_training_set(N)\n",
    "t = training_set.y\n",
    "phis = calc_phi(training_set,M)\n",
    "s = calc_s(phis)\n",
    "w_mean = (phis*t[:,np.newaxis]).sum(axis=0).values\n",
    "df_p_w_t = pd.DataFrame({\"mu\": w_mean, \"deviation\": s.diagonal()})\n",
    "df_p_w_t.index = [\"w\"+str(i) for i in range(M+1)]\n",
    "df_p_w_t"
   ],
   "metadata": {
    "collapsed": false,
    "pycharm": {
     "name": "#%%\n"
    }
   }
  },
  {
   "cell_type": "code",
   "execution_count": null,
   "outputs": [],
   "source": [
    "# 평균 m(x)\n",
    "# phi.T: (size=(1,M+1))\n",
    "# S: (size=(M+1,M+1))\n",
    "# sigma_t_phi: (size=(M+1,1))\n",
    "def mean_fun(x):\n",
    "    t = training_set.y"
   ],
   "metadata": {
    "collapsed": false,
    "pycharm": {
     "name": "#%%\n"
    }
   }
  },
  {
   "cell_type": "code",
   "execution_count": null,
   "outputs": [],
   "source": [
    "def deviation_fun(x):"
   ],
   "metadata": {
    "collapsed": false,
    "pycharm": {
     "name": "#%%\n"
    }
   }
  },
  {
   "cell_type": "code",
   "execution_count": null,
   "outputs": [],
   "source": [
    "\n",
    "#파라미터 설정\n",
    "beta_true = 1.0 / (0.3) ** 2\n",
    "alpha = 1.0 / 100 ** 2\n",
    "M = 9  # 다항식 차수\n",
    "N_list = [4, 5, 10, 100]\n",
    "beta = beta_true"
   ],
   "metadata": {
    "collapsed": false,
    "pycharm": {
     "name": "#%%\n"
    }
   }
  },
  {
   "cell_type": "code",
   "execution_count": 1,
   "outputs": [
    {
     "ename": "SyntaxError",
     "evalue": "invalid syntax (<ipython-input-1-8b8477805372>, line 5)",
     "output_type": "error",
     "traceback": [
      "\u001B[0;36m  File \u001B[0;32m\"<ipython-input-1-8b8477805372>\"\u001B[0;36m, line \u001B[0;32m5\u001B[0m\n\u001B[0;31m    s =\u001B[0m\n\u001B[0m        ^\u001B[0m\n\u001B[0;31mSyntaxError\u001B[0m\u001B[0;31m:\u001B[0m invalid syntax\n"
     ]
    }
   ],
   "source": [
    "for c, N in enumerate(N_list):\n",
    "    training_set = generate_training_set(N)\n",
    "\n",
    "    s = calc_s(phis)\n",
    "\n",
    "    ws_samples = pd.DataFrame(np.random.multivariate_normal(mean,s,4))\n",
    "    draw_t_distribution(c,N)\n",
    "    draw_ws(c,N,ws_samples)\n",
    "fig.show()"
   ],
   "metadata": {
    "collapsed": false,
    "pycharm": {
     "name": "#%%\n"
    }
   }
  }
 ],
 "metadata": {
  "kernelspec": {
   "display_name": "Python 3",
   "language": "python",
   "name": "python3"
  },
  "language_info": {
   "codemirror_mode": {
    "name": "ipython",
    "version": 2
   },
   "file_extension": ".py",
   "mimetype": "text/x-python",
   "name": "python",
   "nbconvert_exporter": "python",
   "pygments_lexer": "ipython2",
   "version": "2.7.6"
  }
 },
 "nbformat": 4,
 "nbformat_minor": 0
}