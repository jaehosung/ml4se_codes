{
 "cells": [
  {
   "cell_type": "code",
   "execution_count": 1,
   "metadata": {},
   "outputs": [],
   "source": [
    "#라이브러리 import\n",
    "import numpy as np\n",
    "import matplotlib.pyplot as plt\n",
    "import pandas as pd\n",
    "from numpy.random import normal\n",
    "from pandas import Series, DataFrame\n",
    "from numpy.random import normal"
   ]
  },
  {
   "cell_type": "code",
   "execution_count": 2,
   "metadata": {},
   "outputs": [],
   "source": [
    "#------------#\n",
    "# Parameters #\n",
    "#------------#\n",
    "\n",
    "N=10            # 샘플을 취득하는 위치 x의 개수\n",
    "M=[0,1,3,9]     # 그래프로 표현할 다항식의 차수"
   ]
  },
  {
   "cell_type": "code",
   "execution_count": 3,
   "metadata": {},
   "outputs": [],
   "source": [
    "# 데이터 셋 생성 함수 만들기\n",
    "def create_dataset(num):\n",
    "    dataset = DataFrame(columns=['x','y'])\n",
    "    for i in range(num):\n",
    "        x = float(i)/float(num-1)\n",
    "        y = np.sin(2*np.pi*x) + normal(scale = 0.3) #add error\n",
    "        dataset = dataset.append(Series([x,y],index=('x','y')),\n",
    "                                 ignore_index = True)\n",
    "    return dataset"
   ]
  },
  {
   "cell_type": "code",
   "execution_count": 4,
   "metadata": {},
   "outputs": [],
   "source": [
    "# 데이터 셋 생성\n",
    "train_set = create_dataset(N)\n",
    "test_set = create_dataset(N)"
   ]
  },
  {
   "cell_type": "code",
   "execution_count": 5,
   "metadata": {},
   "outputs": [
    {
     "name": "stdout",
     "output_type": "stream",
     "text": [
      "          x         y\n",
      "0  0.000000  0.213263\n",
      "1  0.111111  0.235696\n",
      "2  0.222222  0.820384\n",
      "3  0.333333  0.715523\n",
      "4  0.444444  0.396111\n",
      "5  0.555556 -0.861740\n",
      "6  0.666667 -1.090053\n",
      "7  0.777778 -0.662958\n",
      "8  0.888889 -0.452629\n",
      "9  1.000000  0.101852\n"
     ]
    },
    {
     "data": {
      "image/png": "[encoded data removed]",
      "text/plain": [
       "<Figure size 432x288 with 1 Axes>"
      ]
     },
     "metadata": {
      "needs_background": "light"
     },
     "output_type": "display_data"
    }
   ],
   "source": [
    "df_ws = DataFrame()\n",
    "\n",
    "X = train_set['x']\n",
    "Y = train_set['y']\n",
    "\n",
    "plt.scatter(X,Y)\n",
    "plt.title('dataset')\n",
    "\n",
    "print(train_set)"
   ]
  },
  {
   "cell_type": "code",
   "execution_count": 6,
   "metadata": {},
   "outputs": [],
   "source": [
    "# 최소 제곱법으로 계산하기\n",
    "\n",
    "# w를 찾는 것\n",
    "\n",
    "# w: (M+1,1) matrix\n",
    "# phi: (N,M+1) matrix\n",
    "# wT * phiT * phi - tT * phi = 0\n",
    "# w = inv(phiT * phi) * phiT * t\n",
    "\n",
    "def resolve(dataset, m):\n",
    "    t = dataset.y\n",
    "    phi = DataFrame()\n",
    "    \n",
    "    for i in range(0,m+1):\n",
    "        p = dataset.x**i\n",
    "        p.name=\"x**%d\" % i\n",
    "        phi = pd.concat([phi,p], axis=1)\n",
    "    tmp = np.linalg.inv(np.dot(phi.T, phi))\n",
    "    ws = np.dot(np.dot(tmp, phi.T), t)\n",
    "\n",
    "    # 다항식 근사 계산 함수\n",
    "    def f(x):\n",
    "        y = 0\n",
    "        for i, w in enumerate(ws):\n",
    "            y += w * (x ** i)\n",
    "        return y\n",
    "\n",
    "    return (f, ws)"
   ]
  },
  {
   "cell_type": "code",
   "execution_count": 7,
   "metadata": {},
   "outputs": [
    {
     "ename": "NameError",
     "evalue": "name 'm' is not defined",
     "output_type": "error",
     "traceback": [
      "\u001b[1;31m---------------------------------------------------------------------------\u001b[0m",
      "\u001b[1;31mNameError\u001b[0m                                 Traceback (most recent call last)",
      "\u001b[1;32m<ipython-input-7-48b0e4e09277>\u001b[0m in \u001b[0;36m<module>\u001b[1;34m\u001b[0m\n\u001b[0;32m      3\u001b[0m \u001b[0mdf_ws\u001b[0m \u001b[1;33m=\u001b[0m \u001b[0mDataFrame\u001b[0m\u001b[1;33m(\u001b[0m\u001b[1;33m)\u001b[0m\u001b[1;33m\u001b[0m\u001b[1;33m\u001b[0m\u001b[0m\n\u001b[0;32m      4\u001b[0m \u001b[1;33m\u001b[0m\u001b[0m\n\u001b[1;32m----> 5\u001b[1;33m \u001b[1;32mfor\u001b[0m \u001b[0mc\u001b[0m\u001b[1;33m,\u001b[0m \u001b[0mm\u001b[0m \u001b[1;32min\u001b[0m \u001b[0menumerate\u001b[0m\u001b[1;33m(\u001b[0m\u001b[0mrange\u001b[0m\u001b[1;33m(\u001b[0m\u001b[1;36m0\u001b[0m\u001b[1;33m,\u001b[0m\u001b[0mm\u001b[0m\u001b[1;33m+\u001b[0m\u001b[1;36m1\u001b[0m\u001b[1;33m)\u001b[0m\u001b[1;33m)\u001b[0m\u001b[1;33m:\u001b[0m\u001b[1;33m\u001b[0m\u001b[1;33m\u001b[0m\u001b[0m\n\u001b[0m\u001b[0;32m      6\u001b[0m     \u001b[0mf\u001b[0m\u001b[1;33m,\u001b[0m \u001b[0mws\u001b[0m \u001b[1;33m=\u001b[0m \u001b[0mresolve\u001b[0m\u001b[1;33m(\u001b[0m\u001b[0mtrain_set\u001b[0m\u001b[1;33m,\u001b[0m \u001b[0mm\u001b[0m\u001b[1;33m)\u001b[0m\u001b[1;33m\u001b[0m\u001b[1;33m\u001b[0m\u001b[0m\n\u001b[0;32m      7\u001b[0m     \u001b[0mdf_ws\u001b[0m \u001b[1;33m=\u001b[0m \u001b[0mdf_ws\u001b[0m\u001b[1;33m.\u001b[0m\u001b[0mappend\u001b[0m\u001b[1;33m(\u001b[0m\u001b[0mSeries\u001b[0m\u001b[1;33m(\u001b[0m\u001b[0mws\u001b[0m\u001b[1;33m,\u001b[0m\u001b[0mname\u001b[0m\u001b[1;33m=\u001b[0m\u001b[1;34m\"M=%d\"\u001b[0m \u001b[1;33m%\u001b[0m \u001b[0mm\u001b[0m\u001b[1;33m)\u001b[0m\u001b[1;33m)\u001b[0m\u001b[1;33m\u001b[0m\u001b[1;33m\u001b[0m\u001b[0m\n",
      "\u001b[1;31mNameError\u001b[0m: name 'm' is not defined"
     ]
    }
   ],
   "source": [
    "# w matrix 구하기\n",
    "\n",
    "df_ws = DataFrame()\n",
    "\n",
    "for c, m in enumerate(range(0,m+1)):\n",
    "    f, ws = resolve(train_set, m)\n",
    "    df_ws = df_ws.append(Series(ws,name=\"M=%d\" % m))\n",
    "\n",
    "pd.options.display.float_format = \"{:,.2f}\".format\n",
    "print(\"Table of the coefficients\")\n",
    "df_ws.transpose()"
   ]
  },
  {
   "cell_type": "code",
   "execution_count": null,
   "metadata": {},
   "outputs": [],
   "source": [
    "# 제곱근 평균 제곱 오차(Root mean square error) 계산\n",
    "def rms_error(dataset, f):\n",
    "    err = 0.0\n",
    "    # x value: line.x  y value: line.y\n",
    "    for index, line in dataset.iterrows():\n",
    "        x, y = line.x, line.y\n",
    "        err += 0.5 * (y - f(x))**2\n",
    "    return np.sqrt(2 * err / len(dataset))"
   ]
  },
  {
   "cell_type": "code",
   "execution_count": null,
   "metadata": {},
   "outputs": [],
   "source": [
    "# 다항식 근사의 곡선을 구하여 표시\n",
    "\n",
    "fig = plt.figure()\n",
    "\n",
    "for c, m in enumerate(M):\n",
    "    f, ws = resolve(train_set, m)\n",
    "    df_ws = df_ws.append(Series(ws,name=\"M=%d\" % m))\n",
    "\n",
    "\n",
    "    \n",
    "    subplot = fig.add_subplot(2,2,c+1)\n",
    "    subplot.set_xlim(-0.05,1.05)\n",
    "    subplot.set_ylim(-1.5,1.5)\n",
    "    subplot.set_title(\"M=%d\" % m)\n",
    "\n",
    "    # 트레이닝 세트 표시\n",
    "    subplot.scatter(train_set.x, train_set.y, marker='o', color='blue')\n",
    "\n",
    "    # sin곡선을 표시\n",
    "    linex = np.linspace(0,1,101)\n",
    "    liney = np.sin(2*np.pi*linex)\n",
    "    subplot.plot(linex, liney, color='green', linestyle='--')\n",
    "\n",
    "    # 근사 곡선 표시\n",
    "    linex = np.linspace(0,1,101)\n",
    "    liney = f(linex)\n",
    "    \n",
    "    # error값 표시\n",
    "    label = \"E(RMS)=%.2f\" % rms_error(train_set, f)\n",
    "    subplot.plot(linex, liney, color='red', label=label)\n",
    "    subplot.legend(loc=1)\n",
    "\n",
    "fig.tight_layout()"
   ]
  },
  {
   "cell_type": "code",
   "execution_count": null,
   "metadata": {},
   "outputs": [],
   "source": [
    "# 트레이닝 세트와 테스트 세트 오차 차이\n",
    "df = DataFrame(columns=['Training set','Test set'])\n",
    "for m in range(0,10):\n",
    "    f, ws = resolve(train_set, m)\n",
    "    train_error = rms_error(train_set, f)\n",
    "    test_error = rms_error(test_set, f)\n",
    "    df = df.append(\n",
    "            Series([train_error, test_error],\n",
    "                index=['Training set','Test set']),\n",
    "            ignore_index=True)\n",
    "df.plot(title='RMS Error', style=['-','--'], grid=True, ylim=(0,0.9))"
   ]
  }
 ],
 "metadata": {
  "kernelspec": {
   "display_name": "Python 3",
   "language": "python",
   "name": "python3"
  },
  "language_info": {
   "codemirror_mode": {
    "name": "ipython",
    "version": 3
   },
   "file_extension": ".py",
   "mimetype": "text/x-python",
   "name": "python",
   "nbconvert_exporter": "python",
   "pygments_lexer": "ipython3",
   "version": "3.9.2"
  }
 },
 "nbformat": 4,
 "nbformat_minor": 2
}
