{
 "cells": [
  {
   "cell_type": "code",
   "execution_count": 1,
   "metadata": {},
   "outputs": [],
   "source": [
    "#라이브러리 import\n",
    "import numpy as np\n",
    "import matplotlib.pyplot as plt\n",
    "import pandas as pd\n",
    "from numpy.random import normal\n",
    "from pandas import Series, DataFrame\n",
    "from numpy.random import normal"
   ]
  },
  {
   "cell_type": "code",
   "execution_count": 2,
   "metadata": {},
   "outputs": [],
   "source": [
    "#------------#\n",
    "# Parameters #\n",
    "#------------#\n",
    "\n",
    "N=10            # 샘플을 취득하는 위치 x의 개수\n",
    "M=[0,1,3,9]     # 그래프로 표현할 다항식의 차수"
   ]
  },
  {
   "cell_type": "code",
   "execution_count": 3,
   "metadata": {},
   "outputs": [],
   "source": [
    "# 데이터 셋 생성 함수 만들기\n",
    "def create_dataset(num):\n",
    "    dataset = DataFrame(columns=['x','y'])\n",
    "    for i in range(num):\n",
    "        x = float(i)/float(num-1)\n",
    "        y = np.sin(2*np.pi*x) + normal(scale = 0.3) #add error\n",
    "        dataset = dataset.append(Series([x,y],index=('x','y')),\n",
    "                                 ignore_index = True)\n",
    "    return dataset"
   ]
  },
  {
   "cell_type": "code",
   "execution_count": 4,
   "metadata": {},
   "outputs": [],
   "source": [
    "# 데이터 셋 생성\n",
    "train_set = create_dataset(N)\n",
    "test_set = create_dataset(N)"
   ]
  },
  {
   "cell_type": "code",
   "execution_count": 12,
   "metadata": {},
   "outputs": [
    {
     "name": "stdout",
     "output_type": "stream",
     "text": [
      "     x     y\n",
      "0 0.00  0.21\n",
      "1 0.11  0.24\n",
      "2 0.22  0.82\n",
      "3 0.33  0.72\n",
      "4 0.44  0.40\n",
      "5 0.56 -0.86\n",
      "6 0.67 -1.09\n",
      "7 0.78 -0.66\n",
      "8 0.89 -0.45\n",
      "9 1.00  0.10\n"
     ]
    },
    {
     "data": {
      "image/png": "[encoded data removed]",
      "text/plain": [
       "<Figure size 432x288 with 1 Axes>"
      ]
     },
     "metadata": {
      "needs_background": "light"
     },
     "output_type": "display_data"
    }
   ],
   "source": [
    "# 데이터 출력\n",
    "df_ws = DataFrame()\n",
    "\n",
    "X = train_set['x']\n",
    "Y = train_set['y']\n",
    "\n",
    "plt.scatter(X,Y)\n",
    "plt.title('dataset')\n",
    "\n",
    "print(train_set)"
   ]
  },
  {
   "cell_type": "code",
   "execution_count": 13,
   "metadata": {},
   "outputs": [],
   "source": [
    "# 최소 제곱법으로 계산하기 (다항식의 w값을 찾기)\n",
    "\n",
    "# w: (M+1,1) matrix\n",
    "# phi: (N,M+1) matrix\n",
    "# wT * phiT * phi - tT * phi = 0\n",
    "# w = inv(phiT * phi) * phiT * t\n",
    "\n",
    "def resolve(dataset, m):\n",
    "    t = dataset.y\n",
    "    phi = DataFrame()\n",
    "    \n",
    "    for i in range(0,m+1):\n",
    "        p = dataset.x**i\n",
    "        p.name=\"x**%d\" % i\n",
    "        phi = pd.concat([phi,p], axis=1)\n",
    "    tmp = np.linalg.inv(np.dot(phi.T, phi))\n",
    "    ws = np.dot(np.dot(tmp, phi.T), t)\n",
    "\n",
    "    # 다항식 근사 계산 함수\n",
    "    def f(x):\n",
    "        y = 0\n",
    "        for i, w in enumerate(ws):\n",
    "            y += w * (x ** i)\n",
    "        return y\n",
    "\n",
    "    return (f, ws)"
   ]
  },
  {
   "cell_type": "code",
   "execution_count": 14,
   "metadata": {},
   "outputs": [
    {
     "name": "stdout",
     "output_type": "stream",
     "text": [
      "Table of the coefficients\n"
     ]
    },
    {
     "data": {
      "text/html": [
       "<div>\n",
       "<style scoped>\n",
       "    .dataframe tbody tr th:only-of-type {\n",
       "        vertical-align: middle;\n",
       "    }\n",
       "\n",
       "    .dataframe tbody tr th {\n",
       "        vertical-align: top;\n",
       "    }\n",
       "\n",
       "    .dataframe thead th {\n",
       "        text-align: right;\n",
       "    }\n",
       "</style>\n",
       "<table border=\"1\" class=\"dataframe\">\n",
       "  <thead>\n",
       "    <tr style=\"text-align: right;\">\n",
       "      <th></th>\n",
       "      <th>M=0</th>\n",
       "      <th>M=1</th>\n",
       "      <th>M=2</th>\n",
       "      <th>M=3</th>\n",
       "      <th>M=4</th>\n",
       "      <th>M=5</th>\n",
       "      <th>M=6</th>\n",
       "      <th>M=7</th>\n",
       "      <th>M=8</th>\n",
       "      <th>M=9</th>\n",
       "    </tr>\n",
       "  </thead>\n",
       "  <tbody>\n",
       "    <tr>\n",
       "      <th>0</th>\n",
       "      <td>-0.06</td>\n",
       "      <td>0.48</td>\n",
       "      <td>0.68</td>\n",
       "      <td>0.05</td>\n",
       "      <td>0.04</td>\n",
       "      <td>0.20</td>\n",
       "      <td>0.22</td>\n",
       "      <td>0.21</td>\n",
       "      <td>0.21</td>\n",
       "      <td>0.21</td>\n",
       "    </tr>\n",
       "    <tr>\n",
       "      <th>1</th>\n",
       "      <td>NaN</td>\n",
       "      <td>-1.09</td>\n",
       "      <td>-2.40</td>\n",
       "      <td>7.91</td>\n",
       "      <td>8.32</td>\n",
       "      <td>-5.64</td>\n",
       "      <td>-13.38</td>\n",
       "      <td>3.32</td>\n",
       "      <td>-19.08</td>\n",
       "      <td>-135.07</td>\n",
       "    </tr>\n",
       "    <tr>\n",
       "      <th>2</th>\n",
       "      <td>NaN</td>\n",
       "      <td>NaN</td>\n",
       "      <td>1.31</td>\n",
       "      <td>-25.86</td>\n",
       "      <td>-27.93</td>\n",
       "      <td>88.45</td>\n",
       "      <td>183.98</td>\n",
       "      <td>-91.58</td>\n",
       "      <td>360.07</td>\n",
       "      <td>3,039.32</td>\n",
       "    </tr>\n",
       "    <tr>\n",
       "      <th>3</th>\n",
       "      <td>NaN</td>\n",
       "      <td>NaN</td>\n",
       "      <td>NaN</td>\n",
       "      <td>18.12</td>\n",
       "      <td>21.44</td>\n",
       "      <td>-307.53</td>\n",
       "      <td>-718.70</td>\n",
       "      <td>915.43</td>\n",
       "      <td>-2,491.19</td>\n",
       "      <td>-26,624.30</td>\n",
       "    </tr>\n",
       "    <tr>\n",
       "      <th>4</th>\n",
       "      <td>NaN</td>\n",
       "      <td>NaN</td>\n",
       "      <td>NaN</td>\n",
       "      <td>NaN</td>\n",
       "      <td>-1.66</td>\n",
       "      <td>375.42</td>\n",
       "      <td>1,169.99</td>\n",
       "      <td>-3,450.61</td>\n",
       "      <td>9,400.67</td>\n",
       "      <td>122,775.44</td>\n",
       "    </tr>\n",
       "    <tr>\n",
       "      <th>5</th>\n",
       "      <td>NaN</td>\n",
       "      <td>NaN</td>\n",
       "      <td>NaN</td>\n",
       "      <td>NaN</td>\n",
       "      <td>NaN</td>\n",
       "      <td>-150.83</td>\n",
       "      <td>-857.62</td>\n",
       "      <td>5,880.56</td>\n",
       "      <td>-20,874.58</td>\n",
       "      <td>-329,751.18</td>\n",
       "    </tr>\n",
       "    <tr>\n",
       "      <th>6</th>\n",
       "      <td>NaN</td>\n",
       "      <td>NaN</td>\n",
       "      <td>NaN</td>\n",
       "      <td>NaN</td>\n",
       "      <td>NaN</td>\n",
       "      <td>NaN</td>\n",
       "      <td>235.60</td>\n",
       "      <td>-4,654.35</td>\n",
       "      <td>26,559.99</td>\n",
       "      <td>532,329.19</td>\n",
       "    </tr>\n",
       "    <tr>\n",
       "      <th>7</th>\n",
       "      <td>NaN</td>\n",
       "      <td>NaN</td>\n",
       "      <td>NaN</td>\n",
       "      <td>NaN</td>\n",
       "      <td>NaN</td>\n",
       "      <td>NaN</td>\n",
       "      <td>NaN</td>\n",
       "      <td>1,397.13</td>\n",
       "      <td>-17,713.69</td>\n",
       "      <td>-508,280.58</td>\n",
       "    </tr>\n",
       "    <tr>\n",
       "      <th>8</th>\n",
       "      <td>NaN</td>\n",
       "      <td>NaN</td>\n",
       "      <td>NaN</td>\n",
       "      <td>NaN</td>\n",
       "      <td>NaN</td>\n",
       "      <td>NaN</td>\n",
       "      <td>NaN</td>\n",
       "      <td>NaN</td>\n",
       "      <td>4,777.70</td>\n",
       "      <td>264,324.31</td>\n",
       "    </tr>\n",
       "    <tr>\n",
       "      <th>9</th>\n",
       "      <td>NaN</td>\n",
       "      <td>NaN</td>\n",
       "      <td>NaN</td>\n",
       "      <td>NaN</td>\n",
       "      <td>NaN</td>\n",
       "      <td>NaN</td>\n",
       "      <td>NaN</td>\n",
       "      <td>NaN</td>\n",
       "      <td>NaN</td>\n",
       "      <td>-57,677.23</td>\n",
       "    </tr>\n",
       "  </tbody>\n",
       "</table>\n",
       "</div>"
      ],
      "text/plain": [
       "    M=0   M=1   M=2    M=3    M=4     M=5      M=6       M=7        M=8  \\\n",
       "0 -0.06  0.48  0.68   0.05   0.04    0.20     0.22      0.21       0.21   \n",
       "1   NaN -1.09 -2.40   7.91   8.32   -5.64   -13.38      3.32     -19.08   \n",
       "2   NaN   NaN  1.31 -25.86 -27.93   88.45   183.98    -91.58     360.07   \n",
       "3   NaN   NaN   NaN  18.12  21.44 -307.53  -718.70    915.43  -2,491.19   \n",
       "4   NaN   NaN   NaN    NaN  -1.66  375.42 1,169.99 -3,450.61   9,400.67   \n",
       "5   NaN   NaN   NaN    NaN    NaN -150.83  -857.62  5,880.56 -20,874.58   \n",
       "6   NaN   NaN   NaN    NaN    NaN     NaN   235.60 -4,654.35  26,559.99   \n",
       "7   NaN   NaN   NaN    NaN    NaN     NaN      NaN  1,397.13 -17,713.69   \n",
       "8   NaN   NaN   NaN    NaN    NaN     NaN      NaN       NaN   4,777.70   \n",
       "9   NaN   NaN   NaN    NaN    NaN     NaN      NaN       NaN        NaN   \n",
       "\n",
       "          M=9  \n",
       "0        0.21  \n",
       "1     -135.07  \n",
       "2    3,039.32  \n",
       "3  -26,624.30  \n",
       "4  122,775.44  \n",
       "5 -329,751.18  \n",
       "6  532,329.19  \n",
       "7 -508,280.58  \n",
       "8  264,324.31  \n",
       "9  -57,677.23  "
      ]
     },
     "execution_count": 14,
     "metadata": {},
     "output_type": "execute_result"
    }
   ],
   "source": [
    "# w matrix 구하기(다항식 차수에 따른 w 값들)\n",
    "\n",
    "df_ws = DataFrame()\n",
    "\n",
    "for c, m in enumerate(range(0,N)):\n",
    "    f, ws = resolve(train_set, m)\n",
    "    df_ws = df_ws.append(Series(ws,name=\"M=%d\" % m))\n",
    "\n",
    "pd.options.display.float_format = \"{:,.2f}\".format\n",
    "print(\"Table of the coefficients\")\n",
    "df_ws.transpose()"
   ]
  },
  {
   "cell_type": "code",
   "execution_count": 15,
   "metadata": {},
   "outputs": [],
   "source": [
    "# 제곱근 평균 제곱 오차(Root mean square error) 계산 함수\n",
    "def rms_error(dataset, f):\n",
    "    err = 0.0\n",
    "    # x value: line.x  y value: line.y\n",
    "    for index, line in dataset.iterrows():\n",
    "        x, y = line.x, line.y\n",
    "        err += 0.5 * (y - f(x))**2\n",
    "    return np.sqrt(2 * err / len(dataset))"
   ]
  },
  {
   "cell_type": "code",
   "execution_count": 16,
   "metadata": {},
   "outputs": [
    {
     "data": {
      "image/png": "[encoded data removed]",
      "text/plain": [
       "<Figure size 432x288 with 4 Axes>"
      ]
     },
     "metadata": {
      "needs_background": "light"
     },
     "output_type": "display_data"
    }
   ],
   "source": [
    "# 다항식 그래프로 표시\n",
    "\n",
    "fig = plt.figure()\n",
    "\n",
    "for c, m in enumerate(M):\n",
    "    f, ws = resolve(train_set, m)\n",
    "    df_ws = df_ws.append(Series(ws,name=\"M=%d\" % m))\n",
    "\n",
    "\n",
    "    \n",
    "    subplot = fig.add_subplot(2,2,c+1)\n",
    "    subplot.set_xlim(-0.05,1.05)\n",
    "    subplot.set_ylim(-1.5,1.5)\n",
    "    subplot.set_title(\"M=%d\" % m)\n",
    "\n",
    "    # 트레이닝 세트 표시\n",
    "    subplot.scatter(train_set.x, train_set.y, marker='o', color='blue')\n",
    "\n",
    "    # sin곡선을 표시\n",
    "    linex = np.linspace(0,1,101)\n",
    "    liney = np.sin(2*np.pi*linex)\n",
    "    subplot.plot(linex, liney, color='green', linestyle='--')\n",
    "\n",
    "    # 근사 곡선 표시\n",
    "    linex = np.linspace(0,1,101)\n",
    "    liney = f(linex)\n",
    "    \n",
    "    # error값 표시\n",
    "    label = \"E(RMS)=%.2f\" % rms_error(train_set, f)\n",
    "    subplot.plot(linex, liney, color='red', label=label)\n",
    "    subplot.legend(loc=1)\n",
    "\n",
    "fig.tight_layout()"
   ]
  },
  {
   "cell_type": "code",
   "execution_count": 11,
   "metadata": {},
   "outputs": [
    {
     "data": {
      "text/plain": [
       "<AxesSubplot:title={'center':'RMS Error'}>"
      ]
     },
     "execution_count": 11,
     "metadata": {},
     "output_type": "execute_result"
    },
    {
     "data": {
      "image/png": "[encoded data removed]",
      "text/plain": [
       "<Figure size 432x288 with 1 Axes>"
      ]
     },
     "metadata": {
      "needs_background": "light"
     },
     "output_type": "display_data"
    }
   ],
   "source": [
    "# 트레이닝 세트와 테스트 세트 오차 차이\n",
    "df = DataFrame(columns=['Training set','Test set'])\n",
    "for m in range(0,10):\n",
    "    f, ws = resolve(train_set, m)\n",
    "    train_error = rms_error(train_set, f)\n",
    "    test_error = rms_error(test_set, f)\n",
    "    df = df.append(\n",
    "            Series([train_error, test_error],\n",
    "                index=['Training set','Test set']),\n",
    "            ignore_index=True)\n",
    "df.plot(title='RMS Error', style=['-','--'], grid=True, ylim=(0,0.9))"
   ]
  }
 ],
 "metadata": {
  "kernelspec": {
   "display_name": "Python 3",
   "language": "python",
   "name": "python3"
  },
  "language_info": {
   "codemirror_mode": {
    "name": "ipython",
    "version": 3
   },
   "file_extension": ".py",
   "mimetype": "text/x-python",
   "name": "python",
   "nbconvert_exporter": "python",
   "pygments_lexer": "ipython3",
   "version": "3.9.2"
  }
 },
 "nbformat": 4,
 "nbformat_minor": 2
}
