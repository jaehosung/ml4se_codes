{
 "nbformat": 4,
 "nbformat_minor": 0,
 "metadata": {
  "colab": {
   "name": "MLStudy_exercise02.ipynb",
   "provenance": [],
   "collapsed_sections": []
  },
  "kernelspec": {
   "name": "python3",
   "language": "python",
   "display_name": "Python 3"
  },
  "language_info": {
   "name": "python"
  }
 },
 "cells": [
  {
   "cell_type": "markdown",
   "metadata": {
    "id": "MzMv_e4MP20l"
   },
   "source": [
    "###**최소제곱법**"
   ]
  },
  {
   "cell_type": "code",
   "metadata": {
    "id": "oaWV06YG20X4"
   },
   "source": [
    "# 라이브러리 import\n",
    "import numpy as np\n",
    "import matplotlib.pyplot as plt\n",
    "import pandas as pd\n",
    "from numpy.random import normal"
   ],
   "execution_count": 14,
   "outputs": []
  },
  {
   "cell_type": "code",
   "metadata": {
    "id": "jJG9hSpU3A8l"
   },
   "source": [
    "# 상수\n",
    "N = 10 # 관측점/관측값 개수 {(x_n, t_n)} (n=1,...,N)\n",
    "Ms = [0,1,3,9] # 최소제곱법 다항식 차수 리스트"
   ],
   "execution_count": 15,
   "outputs": []
  },
  {
   "cell_type": "code",
   "metadata": {
    "id": "5XW73VHS3CBr"
   },
   "source": [
    "# 최소제곱법에 사용할 \"램덤\" 데이터 셋 생성 함수\n",
    "# N개의 관측점/관측값 {(x_n, y_n)}을 포함하는 DataFrame 생성하여 반환\n",
    "def create_dataset(N):\n",
    "    dataset = pd.DataFrame(columns=['x','t'])\n",
    "    for i in range(N):\n",
    "        x = float(i)/float(N-1)\n",
    "        t = np.sin(2*np.pi*x) + normal(scale = 0.3)\n",
    "            # scale은 standard deviation.\n",
    "        dataset = dataset.append(pd.Series([x,t],index=['x','t']),  \n",
    "                                 ignore_index = True)                 \n",
    "            # pandas.DataFrame.append(): 새로운 객체 반환. index가 0,1,...\n",
    "    return dataset"
   ],
   "execution_count": 3,
   "outputs": []
  },
  {
   "cell_type": "code",
   "metadata": {
    "id": "tvyCi28i3EC-",
    "colab": {
     "base_uri": "https://localhost:8080/",
     "height": 359
    },
    "outputId": "7b879562-d081-400a-9952-3ab38dc2ab1a"
   },
   "source": [
    "# 트레이닝 데이터 셋 생성\n",
    "training_set = create_dataset(N) # 위에서 정의한 관측점/관측값 개수 N  \n",
    "  \n",
    "# N개의 관측점/관측값 가지는 트레이닝 셋 DataFrame 출력\n",
    "training_set"
   ],
   "execution_count": 4,
   "outputs": [
    {
     "data": {
      "text/plain": "          x         t\n0  0.000000  0.343506\n1  0.111111  0.961925\n2  0.222222  1.592594\n3  0.333333  0.610823\n4  0.444444  0.904985\n5  0.555556 -0.492981\n6  0.666667 -0.899071\n7  0.777778 -0.887879\n8  0.888889 -0.702401\n9  1.000000 -0.238711",
      "text/html": "<div>\n<style scoped>\n    .dataframe tbody tr th:only-of-type {\n        vertical-align: middle;\n    }\n\n    .dataframe tbody tr th {\n        vertical-align: top;\n    }\n\n    .dataframe thead th {\n        text-align: right;\n    }\n</style>\n<table border=\"1\" class=\"dataframe\">\n  <thead>\n    <tr style=\"text-align: right;\">\n      <th></th>\n      <th>x</th>\n      <th>t</th>\n    </tr>\n  </thead>\n  <tbody>\n    <tr>\n      <th>0</th>\n      <td>0.000000</td>\n      <td>0.343506</td>\n    </tr>\n    <tr>\n      <th>1</th>\n      <td>0.111111</td>\n      <td>0.961925</td>\n    </tr>\n    <tr>\n      <th>2</th>\n      <td>0.222222</td>\n      <td>1.592594</td>\n    </tr>\n    <tr>\n      <th>3</th>\n      <td>0.333333</td>\n      <td>0.610823</td>\n    </tr>\n    <tr>\n      <th>4</th>\n      <td>0.444444</td>\n      <td>0.904985</td>\n    </tr>\n    <tr>\n      <th>5</th>\n      <td>0.555556</td>\n      <td>-0.492981</td>\n    </tr>\n    <tr>\n      <th>6</th>\n      <td>0.666667</td>\n      <td>-0.899071</td>\n    </tr>\n    <tr>\n      <th>7</th>\n      <td>0.777778</td>\n      <td>-0.887879</td>\n    </tr>\n    <tr>\n      <th>8</th>\n      <td>0.888889</td>\n      <td>-0.702401</td>\n    </tr>\n    <tr>\n      <th>9</th>\n      <td>1.000000</td>\n      <td>-0.238711</td>\n    </tr>\n  </tbody>\n</table>\n</div>"
     },
     "execution_count": 4,
     "metadata": {},
     "output_type": "execute_result"
    }
   ]
  },
  {
   "cell_type": "code",
   "metadata": {
    "colab": {
     "base_uri": "https://localhost:8080/",
     "height": 298
    },
    "id": "2weCCu8J3FBF",
    "outputId": "92c954a0-b3bb-4f5c-f17c-a9db3360abb6"
   },
   "source": [
    "# 트레이닝 셋 그래프 출력\n",
    "x = training_set['x'] # x는 pandas.core.series.Series 객체. \n",
    "t = training_set['t'] # t는 pandas.core.series.Series 객체. \n",
    "\n",
    "plt.scatter(x,t)\n",
    "plt.title('training set')"
   ],
   "execution_count": 5,
   "outputs": [
    {
     "data": {
      "text/plain": "Text(0.5, 1.0, 'training set')"
     },
     "execution_count": 5,
     "metadata": {},
     "output_type": "execute_result"
    },
    {
     "data": {
      "text/plain": "<Figure size 432x288 with 1 Axes>",
      "image/png": "[encoded data removed]"
     },
     "metadata": {
      "needs_background": "light"
     },
     "output_type": "display_data"
    }
   ]
  },
  {
   "cell_type": "code",
   "metadata": {
    "colab": {
     "base_uri": "https://localhost:8080/"
    },
    "id": "Z-qkuNgeb5Qd",
    "outputId": "847aca29-1ea9-40a7-f594-937743be3a9e"
   },
   "source": [
    "# 최소제곱법으로 다항식 계수 계산\n",
    "\n",
    "M = 4 # 우선 다항식 차수 M=2 (N=10)\n",
    "# w: (M+1,1)=(3,1) matrix\n",
    "# phi: (N,M+1)=(10,3) matrix\n",
    "\n",
    "t = training_set.t # {t}: (N,1) 측정값 벡터\n",
    "phi = pd.DataFrame()\n",
    "\n",
    "for i in range(0,M+1): # 0,1,2 (M=2) \n",
    "    p = training_set.x**i\n",
    "    p.name=\"x**%d\" % i \n",
    "    phi = pd.concat([phi,p], axis=1) # phi matrix에 column (axis=1) p 추가. \n",
    "\n",
    "print(\"phi is \" + str(phi.shape) + \" matrix.\")\n",
    "print(phi)\n",
    "print(\"\\n\")\n",
    "print(\"t is \" + str(t.shape) + \" matrix\")\n",
    "print(t)\n",
    "\n",
    "tmp = np.linalg.inv(np.dot(phi.T, phi)) # tmp = inv(phiT * phi)\n",
    "w = np.dot(np.dot(tmp, phi.T), t) # w = inv(phiT * phi) * phiT * t\n",
    "\n",
    "print(\"\\nw is \" + str(w.shape) + \" matrix\")\n",
    "print(w)"
   ],
   "execution_count": 6,
   "outputs": [
    {
     "name": "stdout",
     "output_type": "stream",
     "text": [
      "phi is (10, 5) matrix.\n",
      "   x**0      x**1      x**2      x**3      x**4\n",
      "0   1.0  0.000000  0.000000  0.000000  0.000000\n",
      "1   1.0  0.111111  0.012346  0.001372  0.000152\n",
      "2   1.0  0.222222  0.049383  0.010974  0.002439\n",
      "3   1.0  0.333333  0.111111  0.037037  0.012346\n",
      "4   1.0  0.444444  0.197531  0.087791  0.039018\n",
      "5   1.0  0.555556  0.308642  0.171468  0.095260\n",
      "6   1.0  0.666667  0.444444  0.296296  0.197531\n",
      "7   1.0  0.777778  0.604938  0.470508  0.365950\n",
      "8   1.0  0.888889  0.790123  0.702332  0.624295\n",
      "9   1.0  1.000000  1.000000  1.000000  1.000000\n",
      "\n",
      "\n",
      "t is (10,) matrix\n",
      "0    0.343506\n",
      "1    0.961925\n",
      "2    1.592594\n",
      "3    0.610823\n",
      "4    0.904985\n",
      "5   -0.492981\n",
      "6   -0.899071\n",
      "7   -0.887879\n",
      "8   -0.702401\n",
      "9   -0.238711\n",
      "Name: t, dtype: float64\n",
      "\n",
      "w is (5,) matrix\n",
      "[  0.27556334  12.39529808 -42.83343447  38.82184494  -8.8436611 ]\n"
     ]
    }
   ]
  },
  {
   "cell_type": "code",
   "metadata": {
    "id": "cgs_S1Ozo8vv"
   },
   "source": [
    "# 최소제곱법으로 N차 다항식 계수 계산 및 다항식 함수 반환하는 함수\n",
    "\n",
    "# w: (M+1,1) matrix. 다항식 계수 벡터.\n",
    "# phi: (N,M+1) matrix. 측정점 매트릭스.\n",
    "# wT * phiT * phi - tT * phi = 0\n",
    "# w = inv(phiT * phi) * phiT * t\n",
    "def calc_polynomial(dataset, M):\n",
    "    t = dataset.t # t: pandas.core.series.Series\n",
    "    phi = pd.DataFrame()\n",
    "    \n",
    "    for i in range(0,M+1):\n",
    "        p = dataset.x**i\n",
    "        p.name=\"x**%d\" % i\n",
    "        phi = pd.concat([phi,p], axis=1)\n",
    "    tmp = np.linalg.inv(np.dot(phi.T, phi)) # tmp: numpy.ndarray\n",
    "    ws = np.dot(np.dot(tmp, phi.T), t) # ws: numpy.ndarray\n",
    "\n",
    "    # 다항식 근사 계산 함수\n",
    "    def f(x):\n",
    "        y = 0\n",
    "        for i, w in enumerate(ws):\n",
    "            y += w * (x ** i)\n",
    "        return y\n",
    "\n",
    "    return (f, ws)"
   ],
   "execution_count": 7,
   "outputs": []
  },
  {
   "cell_type": "code",
   "metadata": {
    "colab": {
     "base_uri": "https://localhost:8080/",
     "height": 376
    },
    "id": "ygz3u9xh3ISq",
    "outputId": "28717145-cff2-4856-a37b-d5d235f8b1a2"
   },
   "source": [
    "# 다항식 차수에 따른 다항식 계수 계산\n",
    "df_ws = pd.DataFrame()\n",
    "\n",
    "for _, M in enumerate(range(0,N)): # 0,...,9\n",
    "    f, ws = calc_polynomial(training_set, M) # N개의 트레이닝 셋으로부터 M차 다항식 계산 \n",
    "    df_ws = df_ws.append(pd.Series(ws,name=\"M=%d\" % M)) # append a row. \n",
    "\n",
    "# 데이터 프레임 각 셀의 값을 소수점 둘째 자리까지 표시\n",
    "pd.options.display.float_format = \"{:,.2f}\".format\n",
    "print(\"Table of the coefficients\")\n",
    "df_ws"
   ],
   "execution_count": 8,
   "outputs": [
    {
     "name": "stdout",
     "output_type": "stream",
     "text": [
      "Table of the coefficients\n"
     ]
    },
    {
     "data": {
      "text/plain": "       0       1        2          3          4           5            6  \\\nM=0 0.12     NaN      NaN        NaN        NaN         NaN          NaN   \nM=1 1.08   -1.92      NaN        NaN        NaN         NaN          NaN   \nM=2 1.06   -1.82    -0.10        NaN        NaN         NaN          NaN   \nM=3 0.33   10.21   -31.81      21.13        NaN         NaN          NaN   \nM=4 0.28   12.40   -42.83      38.82      -8.84         NaN          NaN   \nM=5 0.33    7.02     1.97     -87.82     136.32      -58.06          NaN   \nM=6 0.33    7.65    -5.79     -54.41      71.75       -0.63       -19.14   \nM=7 0.33    8.10   -13.30      -9.87     -54.19      183.02      -152.42   \nM=8 0.34  -57.51 1,309.90  -9,990.22  37,596.13  -78,201.32    91,295.98   \nM=9 0.34 -323.63 7,456.91 -65,358.91 297,712.29 -786,858.11 1,251,684.23   \n\n                7          8           9  \nM=0           NaN        NaN         NaN  \nM=1           NaN        NaN         NaN  \nM=2           NaN        NaN         NaN  \nM=3           NaN        NaN         NaN  \nM=4           NaN        NaN         NaN  \nM=5           NaN        NaN         NaN  \nM=6           NaN        NaN         NaN  \nM=7         38.08        NaN         NaN  \nM=8    -55,950.74  13,997.21         NaN  \nM=9 -1,181,460.27 609,476.00 -132,329.09  ",
      "text/html": "<div>\n<style scoped>\n    .dataframe tbody tr th:only-of-type {\n        vertical-align: middle;\n    }\n\n    .dataframe tbody tr th {\n        vertical-align: top;\n    }\n\n    .dataframe thead th {\n        text-align: right;\n    }\n</style>\n<table border=\"1\" class=\"dataframe\">\n  <thead>\n    <tr style=\"text-align: right;\">\n      <th></th>\n      <th>0</th>\n      <th>1</th>\n      <th>2</th>\n      <th>3</th>\n      <th>4</th>\n      <th>5</th>\n      <th>6</th>\n      <th>7</th>\n      <th>8</th>\n      <th>9</th>\n    </tr>\n  </thead>\n  <tbody>\n    <tr>\n      <th>M=0</th>\n      <td>0.12</td>\n      <td>NaN</td>\n      <td>NaN</td>\n      <td>NaN</td>\n      <td>NaN</td>\n      <td>NaN</td>\n      <td>NaN</td>\n      <td>NaN</td>\n      <td>NaN</td>\n      <td>NaN</td>\n    </tr>\n    <tr>\n      <th>M=1</th>\n      <td>1.08</td>\n      <td>-1.92</td>\n      <td>NaN</td>\n      <td>NaN</td>\n      <td>NaN</td>\n      <td>NaN</td>\n      <td>NaN</td>\n      <td>NaN</td>\n      <td>NaN</td>\n      <td>NaN</td>\n    </tr>\n    <tr>\n      <th>M=2</th>\n      <td>1.06</td>\n      <td>-1.82</td>\n      <td>-0.10</td>\n      <td>NaN</td>\n      <td>NaN</td>\n      <td>NaN</td>\n      <td>NaN</td>\n      <td>NaN</td>\n      <td>NaN</td>\n      <td>NaN</td>\n    </tr>\n    <tr>\n      <th>M=3</th>\n      <td>0.33</td>\n      <td>10.21</td>\n      <td>-31.81</td>\n      <td>21.13</td>\n      <td>NaN</td>\n      <td>NaN</td>\n      <td>NaN</td>\n      <td>NaN</td>\n      <td>NaN</td>\n      <td>NaN</td>\n    </tr>\n    <tr>\n      <th>M=4</th>\n      <td>0.28</td>\n      <td>12.40</td>\n      <td>-42.83</td>\n      <td>38.82</td>\n      <td>-8.84</td>\n      <td>NaN</td>\n      <td>NaN</td>\n      <td>NaN</td>\n      <td>NaN</td>\n      <td>NaN</td>\n    </tr>\n    <tr>\n      <th>M=5</th>\n      <td>0.33</td>\n      <td>7.02</td>\n      <td>1.97</td>\n      <td>-87.82</td>\n      <td>136.32</td>\n      <td>-58.06</td>\n      <td>NaN</td>\n      <td>NaN</td>\n      <td>NaN</td>\n      <td>NaN</td>\n    </tr>\n    <tr>\n      <th>M=6</th>\n      <td>0.33</td>\n      <td>7.65</td>\n      <td>-5.79</td>\n      <td>-54.41</td>\n      <td>71.75</td>\n      <td>-0.63</td>\n      <td>-19.14</td>\n      <td>NaN</td>\n      <td>NaN</td>\n      <td>NaN</td>\n    </tr>\n    <tr>\n      <th>M=7</th>\n      <td>0.33</td>\n      <td>8.10</td>\n      <td>-13.30</td>\n      <td>-9.87</td>\n      <td>-54.19</td>\n      <td>183.02</td>\n      <td>-152.42</td>\n      <td>38.08</td>\n      <td>NaN</td>\n      <td>NaN</td>\n    </tr>\n    <tr>\n      <th>M=8</th>\n      <td>0.34</td>\n      <td>-57.51</td>\n      <td>1,309.90</td>\n      <td>-9,990.22</td>\n      <td>37,596.13</td>\n      <td>-78,201.32</td>\n      <td>91,295.98</td>\n      <td>-55,950.74</td>\n      <td>13,997.21</td>\n      <td>NaN</td>\n    </tr>\n    <tr>\n      <th>M=9</th>\n      <td>0.34</td>\n      <td>-323.63</td>\n      <td>7,456.91</td>\n      <td>-65,358.91</td>\n      <td>297,712.29</td>\n      <td>-786,858.11</td>\n      <td>1,251,684.23</td>\n      <td>-1,181,460.27</td>\n      <td>609,476.00</td>\n      <td>-132,329.09</td>\n    </tr>\n  </tbody>\n</table>\n</div>"
     },
     "execution_count": 8,
     "metadata": {},
     "output_type": "execute_result"
    }
   ]
  },
  {
   "cell_type": "code",
   "metadata": {
    "id": "8fdjl7Cc3J8h"
   },
   "source": [
    "# 제곱근 평균 제곱 오차(Root mean square error) 계산 \n",
    "def calc_rms_error(dataset, f):\n",
    "    err = 0.0\n",
    "    # x value: line.x  t value: line.t\n",
    "    for _, line in dataset.iterrows(): # (index, Series) pairs.\n",
    "        x, t = line.x, line.t\n",
    "        err += 0.5 * (t - f(x))**2\n",
    "    return np.sqrt(2 * err / len(dataset))"
   ],
   "execution_count": 9,
   "outputs": []
  },
  {
   "cell_type": "code",
   "metadata": {
    "id": "MfNHMdph3MFn",
    "colab": {
     "base_uri": "https://localhost:8080/",
     "height": 297
    },
    "outputId": "77a09a1d-6907-4b05-efcc-6761f2e625ac"
   },
   "source": [
    "# 최소제곱법으로 구한 0, 1, 3, 9차 다항식 시각화\n",
    "fig = plt.figure()\n",
    "\n",
    "for c, M in enumerate(Ms):\n",
    "    f, ws = calc_polynomial(training_set, M)\n",
    "    rms_error = calc_rms_error(training_set,f)\n",
    "\n",
    "    subplot = fig.add_subplot(2,2,c+1)\n",
    "    subplot.set_xlim(-0.05,1.05)\n",
    "    subplot.set_ylim(-1.5,1.5)\n",
    "    subplot.set_title(\"M=%d\" % M)\n",
    "\n",
    "    # 트레이닝 셋 표시\n",
    "    subplot.scatter(training_set.x, training_set.t, marker='o', color='blue')\n",
    "\n",
    "    # sin 곡선 표시\n",
    "    linex = np.linspace(0,1,101) # numpy.ndarray (101,)\n",
    "    liney = np.sin(2*np.pi*linex) # numpy.ndarray (101,)\n",
    "    subplot.plot(linex, liney, color='green', linestyle='--')\n",
    "\n",
    "    # 다항식 근사 곡선 표시\n",
    "    linex = np.linspace(0,1,101) \n",
    "    liney = f(linex)\n",
    "    \n",
    "    # error값 표시\n",
    "    label = \"E(RMS)=%.2f\" % rms_error\n",
    "    subplot.plot(linex, liney, color='red', label=label)\n",
    "    subplot.legend(loc=1)\n",
    "\n",
    "fig.tight_layout()"
   ],
   "execution_count": 10,
   "outputs": [
    {
     "data": {
      "text/plain": "<Figure size 432x288 with 4 Axes>",
      "image/png": "[encoded data removed]"
     },
     "metadata": {
      "needs_background": "light"
     },
     "output_type": "display_data"
    }
   ]
  },
  {
   "cell_type": "code",
   "metadata": {
    "id": "auT-RSRS3Nhn",
    "colab": {
     "base_uri": "https://localhost:8080/",
     "height": 298
    },
    "outputId": "cd5a1476-0bd1-4cbc-f636-d14b14727764"
   },
   "source": [
    "# 트레이닝 셋과 테스트 셋에 대한 오차의 변화 시각화\n",
    "test_set = create_dataset(N)\n",
    "df = pd.DataFrame(columns=['Training set','Test set'])\n",
    "for M in range(0,10):\n",
    "    f, ws = calc_polynomial(training_set, M)\n",
    "    train_error = calc_rms_error(training_set, f)\n",
    "    test_error = calc_rms_error(test_set, f)\n",
    "    df = df.append(\n",
    "            pd.Series([train_error, test_error],\n",
    "                index=['Training set','Test set']),\n",
    "            ignore_index=True)\n",
    "df.plot(title='RMS Error', style=['-','--'], grid=True, ylim=(0,0.9))"
   ],
   "execution_count": 11,
   "outputs": [
    {
     "data": {
      "text/plain": "<AxesSubplot:title={'center':'RMS Error'}>"
     },
     "execution_count": 11,
     "metadata": {},
     "output_type": "execute_result"
    },
    {
     "data": {
      "text/plain": "<Figure size 432x288 with 1 Axes>",
      "image/png": "[encoded data removed]"
     },
     "metadata": {
      "needs_background": "light"
     },
     "output_type": "display_data"
    }
   ]
  },
  {
   "cell_type": "code",
   "metadata": {
    "id": "d0aPvVpsgsgK",
    "colab": {
     "base_uri": "https://localhost:8080/"
    },
    "outputId": "234f1d38-c913-4908-89b8-30d533fcc604",
    "pycharm": {
     "name": "#%%\n"
    }
   },
   "source": [
    "# 라이브러리 numpy의 polyfit을 사용하여 최소제곱법 계산\n",
    "\n",
    "# numpy.polyfit(x, y, deg)\n",
    "# Input: trainset, M = 2\n",
    "# Output: [w2, w1, w0]\n",
    "w_polyfit= np.polyfit(training_set.x, training_set.t, 2)\n",
    "print(w_polyfit)"
   ],
   "execution_count": 12,
   "outputs": [
    {
     "name": "stdout",
     "output_type": "stream",
     "text": [
      "[-0.10436923 -1.8167355   1.0643693 ]\n"
     ]
    }
   ]
  },
  {
   "cell_type": "code",
   "metadata": {
    "id": "1wxO3KXmLBB6",
    "colab": {
     "base_uri": "https://localhost:8080/"
    },
    "outputId": "aebf0c39-9752-4276-e71b-1ba29b44375e",
    "pycharm": {
     "name": "#%%\n"
    }
   },
   "source": [
    "# w_polyfit으로 추정값 계산하기\n",
    "def f(x, w):\n",
    "    y = 0\n",
    "    for i, w_i in enumerate(w):\n",
    "        deg = len(w) - (i + 1)\n",
    "        y += w_i * (x ** deg)\n",
    "    return y\n",
    "\n",
    "f(0,w_polyfit)"
   ],
   "execution_count": 13,
   "outputs": [
    {
     "data": {
      "text/plain": "1.0643693027605077"
     },
     "execution_count": 13,
     "metadata": {},
     "output_type": "execute_result"
    }
   ]
  }
 ]
}