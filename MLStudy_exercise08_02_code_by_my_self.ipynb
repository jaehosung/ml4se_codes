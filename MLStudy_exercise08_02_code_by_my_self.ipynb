{
 "cells": [
  {
   "cell_type": "code",
   "execution_count": 70,
   "metadata": {
    "collapsed": true
   },
   "outputs": [],
   "source": [
    "import numpy as np\n",
    "import matplotlib.pyplot as plt\n",
    "import pandas as pd\n",
    "\n",
    "# 실제 분포\n",
    "beta_true = 1.0 / (0.3) ** 2  # 분산: 0.3\n",
    "alpha = 1.0 / (100) ** 2  # 사전 분포 분산\n",
    "\n",
    "beta = beta_true\n",
    "\n",
    "M = 9  # 다항식 차수\n",
    "N_list = [4, 5, 10, 100]\n",
    "\n",
    "# 트레이닝 셋 {x_n,y_n} (n=1...N) 생성 함수\n",
    "def create_training_set(num):\n",
    "    dataset = pd.DataFrame(columns=['x','y'])\n",
    "    for i in range(num):\n",
    "        x = float(i) / float(num-1)  # x의 범위: [0,1]\n",
    "        y = np.sin(2.0 * np.pi * x) + np.random.normal(scale=0.3)\n",
    "        dataset = dataset.append(pd.Series([x,y], index = ['x','y']),\n",
    "                                 ignore_index=True)\n",
    "    return dataset"
   ]
  },
  {
   "cell_type": "code",
   "execution_count": 71,
   "outputs": [],
   "source": [
    "# dataset =\n",
    "phis = pd.DataFrame() # (size=(N*M+1))\n",
    "\n",
    "num = 4\n",
    "m = 4\n",
    "\n",
    "training_set = create_training_set(num)\n",
    "phis = pd.DataFrame()\n",
    "for i in range(0,m+1):\n",
    "    p = training_set.y ** i\n",
    "    p.name = \"x^%d\" % i\n",
    "    phis = pd.concat([phis,p],axis=1)"
   ],
   "metadata": {
    "collapsed": false,
    "pycharm": {
     "name": "#%%\n"
    }
   }
  },
  {
   "cell_type": "code",
   "execution_count": 82,
   "outputs": [
    {
     "name": "stdout",
     "output_type": "stream",
     "text": [
      "(1, 5)\n",
      "(4, 5)\n"
     ]
    },
    {
     "name": "stderr",
     "output_type": "stream",
     "text": [
      "<ipython-input-82-9f4962b25fd6>:4: FutureWarning: Support for multi-dimensional indexing (e.g. `obj[:, None]`) is deprecated and will be removed in a future version.  Convert to a numpy array before indexing instead.\n",
      "  phi = line[:,np.newaxis] # (size=(M+1,1))\n",
      "<ipython-input-82-9f4962b25fd6>:14: FutureWarning: Support for multi-dimensional indexing (e.g. `obj[:, None]`) is deprecated and will be removed in a future version.  Convert to a numpy array before indexing instead.\n",
      "  sigma_t_phi = np.multiply(t[:,np.newaxis],phis)\n"
     ]
    }
   ],
   "source": [
    "#분산 S 계산\n",
    "phiphi_sum = 0\n",
    "for _,line in phis.iterrows():\n",
    "    phi = line[:,np.newaxis] # (size=(M+1,1))\n",
    "    phiphi = np.dot(phi,phi.T) # (size=(M+1,M+1))\n",
    "    phiphi_sum += phiphi\n",
    "s_inv = alpha * np.identity(m+1) + beta*phiphi_sum\n",
    "s = np.linalg.inv(s_inv)\n",
    "\n",
    "t = training_set.y\n",
    "# 평균 m(x) 계산\n",
    "def calculate_mean(x):\n",
    "    phi_x = pd.DataFrame([x ** i for i in range(0, m + 1)])\n",
    "    sigma_t_phi = np.multiply(t[:,np.newaxis],phis)\n",
    "    print(np.dot(phi_x.T, s).shape)\n",
    "    print((sigma_t_phi).shape)\n",
    "    # return (beta * np.dot(np.dot(phi_x.T, s), pd.DataFrame(sigma_t_phi))).flatten()\n",
    "\n",
    "calculate_mean(0)"
   ],
   "metadata": {
    "collapsed": false,
    "pycharm": {
     "name": "#%%\n"
    }
   }
  },
  {
   "cell_type": "code",
   "execution_count": null,
   "outputs": [],
   "source": [],
   "metadata": {
    "collapsed": false,
    "pycharm": {
     "name": "#%%\n"
    }
   }
  }
 ],
 "metadata": {
  "kernelspec": {
   "display_name": "Python 3",
   "language": "python",
   "name": "python3"
  },
  "language_info": {
   "codemirror_mode": {
    "name": "ipython",
    "version": 2
   },
   "file_extension": ".py",
   "mimetype": "text/x-python",
   "name": "python",
   "nbconvert_exporter": "python",
   "pygments_lexer": "ipython2",
   "version": "2.7.6"
  }
 },
 "nbformat": 4,
 "nbformat_minor": 0
}