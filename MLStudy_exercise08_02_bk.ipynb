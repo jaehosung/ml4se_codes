{
 "cells": [
  {
   "cell_type": "code",
   "execution_count": null,
   "outputs": [],
   "source": [
    "# 베이스 추정에 의한 회귀 분석\n",
    "import numpy as np\n",
    "import matplotlib.pyplot as plt\n",
    "import pandas as pd"
   ],
   "metadata": {
    "collapsed": false,
    "pycharm": {
     "name": "#%%\n"
    }
   }
  },
  {
   "cell_type": "code",
   "execution_count": null,
   "outputs": [],
   "source": [
    "# 트레이닝 셋 {x_n,y_n} (n=1...N) 을 준비\n",
    "def generate_training_set(num):\n",
    "    dataset = pd.DataFrame(columns=[\"x\", \"y\"])\n",
    "    for idx in range(num):\n",
    "        x = float(idx) / float(num - 1)\n",
    "        y = np.sin(2.0 * np.pi * x) + np.random.normal(scale=0.3)\n",
    "        dataset = dataset.append(pd.Series([x, y], index=[\"x\", \"y\"]),\n",
    "                                 ignore_index=True)\n",
    "    return dataset"
   ],
   "metadata": {
    "collapsed": false,
    "pycharm": {
     "name": "#%%\n"
    }
   }
  },
  {
   "cell_type": "code",
   "execution_count": null,
   "outputs": [],
   "source": [
    "def calc_phi(dataset,M):\n",
    "    phis = pd.DataFrame() # (size=(N,M+1))\n",
    "\n",
    "    for i in range(0, m + 1):\n",
    "        p = dataset.x ** i\n",
    "        p.name = \"x**%d\" % i\n",
    "        phis = pd.concat([phis, p], axis=1)\n",
    "    return phis"
   ],
   "metadata": {
    "collapsed": false,
    "pycharm": {
     "name": "#%%\n"
    }
   }
  },
  {
   "cell_type": "code",
   "execution_count": null,
   "outputs": [],
   "source": [
    "def calc_s(phis):\n",
    "    # 분산(S) 계산\n",
    "    phiphi_sum = 0\n",
    "    for _, phi in phis.iterrows():\n",
    "        phi = phi.values[:,np.newaxis] # reshape the phi (M+1,) to (M+1,1)\n",
    "        phiphi_sum += np.dot(phi,phi.T) # (size=(M+1,M+1))\n",
    "    s_inv = alpha * pd.DataFrame(np.identity(m + 1)) + beta * phiphi_sum\n",
    "    s = np.linalg.inv(s_inv)  # 사후분포의 공분산행렬\n",
    "    return s"
   ],
   "metadata": {
    "collapsed": false,
    "pycharm": {
     "name": "#%%\n"
    }
   }
  },
  {
   "cell_type": "code",
   "execution_count": null,
   "outputs": [],
   "source": [
    "#phis (size=(5,10))\n",
    "#tn (size = (5,)\n",
    "# phis.iloc[0]*t.iloc[0]\n",
    "M = 9\n",
    "N = 100\n",
    "training_set = generate_training_set(N)\n",
    "t = training_set.y\n",
    "phis = calc_phi(training_set,M)\n",
    "s = calc_s(phis)\n",
    "w_mean = (phis*t[:,np.newaxis]).sum(axis=0).values\n",
    "df_p_w_t = pd.DataFrame({\"mu\": w_mean, \"deviation\": s.diagonal()})\n",
    "df_p_w_t.index = [\"w\"+str(i) for i in range(M+1)]\n",
    "df_p_w_t"
   ],
   "metadata": {
    "collapsed": false,
    "pycharm": {
     "name": "#%%\n"
    }
   }
  },
  {
   "cell_type": "code",
   "execution_count": null,
   "outputs": [],
   "source": [
    "# 평균 m(x)\n",
    "# phi.T: (size=(1,M+1))\n",
    "# S: (size=(M+1,M+1))\n",
    "# sigma_t_phi: (size=(M+1,1))\n",
    "def mean_fun(x):\n",
    "    t = training_set.y\n",
    "    phi_x = np.array([x ** i for i in range(0, m + 1)])\n",
    "    sigma_t_phi= np.sum(np.multiply(t.values[:,np.newaxis],phis.values),axis = 0)\n",
    "    #TODO flatten지웠는데 괜찮을까?\n",
    "    # m_x = np.linalg.multi_dot([beta*phi_x.T, s, sum]).flatten()\n",
    "    m_x = np.linalg.multi_dot([beta*phi_x.T, s, sigma_t_phi]).flatten()\n",
    "    return m_x"
   ],
   "metadata": {
    "collapsed": false,
    "pycharm": {
     "name": "#%%\n"
    }
   }
  },
  {
   "cell_type": "code",
   "execution_count": null,
   "outputs": [],
   "source": [
    "def deviation_fun(x):\n",
    "    phi_x = pd.DataFrame([x ** i for i in range(0, m + 1)])\n",
    "    variance = 1.0 / beta + np.linalg.multi_dot([phi_x.T, s, phi_x])\n",
    "    # TODO diagonal()제거 했는데 괜찮을지 확인하기\n",
    "    # return variance.diagonal()\n",
    "    return np.sqrt(variance).diagonal()"
   ],
   "metadata": {
    "collapsed": false,
    "pycharm": {
     "name": "#%%\n"
    }
   }
  },
  {
   "cell_type": "code",
   "execution_count": null,
   "outputs": [],
   "source": [
    "def f(x,ws):\n",
    "    # x : (size=(n,1))\n",
    "    # ws : (size=(M+1))\n",
    "    x_n = np.array([x ** i for i in range(0, m + 1)])\n",
    "    return np.multiply(ws[:,np.newaxis],x_n).sum(axis = 0)"
   ],
   "metadata": {
    "collapsed": false,
    "pycharm": {
     "name": "#%%\n"
    }
   }
  },
  {
   "cell_type": "code",
   "execution_count": null,
   "outputs": [],
   "source": [
    "def draw_t_distribution(c,N):\n",
    "    line_x = np.arange(0, 1.01, 0.01)\n",
    "    line_y_true = np.sin(2 * np.pi * line_x)\n",
    "\n",
    "    # 평균과 표준편차 곡선 계산\n",
    "    line_y_mu = np.array(mean_fun(line_x))\n",
    "    line_y_d = np.array(deviation_fun(line_x))\n",
    "\n",
    "    # 그래프 이름 및 범위 설정\n",
    "    axs[c][0].set_xlim(-0.05,1.05)\n",
    "    axs[c][0].set_ylim(-2,2)\n",
    "    axs[c][0].set_title(\"N=%d\" % N)\n",
    "    axs[c][0].scatter(training_set.x, training_set.y, marker='o', color='blue')\n",
    "    # 실제값 표시\n",
    "    axs[c][0].plot(line_x, line_y_true, color='green', linestyle=':')\n",
    "\n",
    "    # 평균과 표준편차 곡선 표시\n",
    "    axs[c][0].plot(line_x, line_y_mu, color='red', label='mean')\n",
    "    axs[c][0].legend(loc=1)\n",
    "    axs[c][0].plot(line_x, line_y_mu - line_y_d, color='black', linestyle='--')\n",
    "    axs[c][0].plot(line_x, line_y_mu + line_y_d, color='black', linestyle='--')\n",
    "def draw_ws(c,N,ws_samples):\n",
    "    line_x = np.arange(0, 1.01, 0.01)\n",
    "    line_y_mu = np.array(mean_fun(line_x))\n",
    "\n",
    "    axs[c][1].set_xlim(-0.05,1.05)\n",
    "    axs[c][1].set_ylim(-2,2)\n",
    "    axs[c][1].set_title(\"N=%d\" % N)\n",
    "    axs[c][1].scatter(training_set.x, training_set.y, marker='o', color='blue')\n",
    "    # 평균 곡선 표시\n",
    "    axs[c][1].plot(line_x, line_y_mu, color='red', label=\"mean\")\n",
    "    axs[c][1].legend(loc=1)\n",
    "    for index, ws in ws_samples.iterrows():\n",
    "        line_y_f = f(line_x, ws)\n",
    "        axs[c][1].plot(line_x, line_y_f, color='green', linestyle='--')"
   ],
   "metadata": {
    "collapsed": false,
    "pycharm": {
     "name": "#%%\n"
    }
   }
  },
  {
   "cell_type": "code",
   "execution_count": null,
   "outputs": [],
   "source": [
    "#파라미터 설정\n",
    "beta_true = 1.0 / (0.3) ** 2\n",
    "alpha = 1.0 / 100 ** 2\n",
    "M = 9  # 다항식 차수\n",
    "N_list = [4, 5, 10, 100]\n",
    "beta = beta_true"
   ],
   "metadata": {
    "collapsed": false,
    "pycharm": {
     "name": "#%%\n"
    }
   }
  },
  {
   "cell_type": "code",
   "execution_count": null,
   "outputs": [],
   "source": [
    "fig, axs = plt.subplots(len(N_list),2, figsize=(8,len(N_list)*4))\n",
    "for c, N in enumerate(N_list):\n",
    "    training_set = generate_training_set(N)\n",
    "    t = training_set.y\n",
    "\n",
    "    phis = calc_phi(training_set,M)\n",
    "    sigma_t_phi= np.sum(np.multiply(t.values[:,np.newaxis],phis.values),axis = 0)\n",
    "    s = calc_s(phis)\n",
    "\n",
    "    mean = np.linalg.multi_dot([beta*s,sigma_t_phi])\n",
    "    ws_samples = pd.DataFrame(np.random.multivariate_normal(mean,s,4))\n",
    "    draw_t_distribution(c,N)\n",
    "    draw_ws(c,N,ws_samples)\n",
    "fig.show()"
   ],
   "metadata": {
    "collapsed": false,
    "pycharm": {
     "name": "#%%\n"
    }
   }
  }
 ],
 "metadata": {
  "kernelspec": {
   "display_name": "Python 3",
   "language": "python",
   "name": "python3"
  },
  "language_info": {
   "codemirror_mode": {
    "name": "ipython",
    "version": 2
   },
   "file_extension": ".py",
   "mimetype": "text/x-python",
   "name": "python",
   "nbconvert_exporter": "python",
   "pygments_lexer": "ipython2",
   "version": "2.7.6"
  }
 },
 "nbformat": 4,
 "nbformat_minor": 0
}