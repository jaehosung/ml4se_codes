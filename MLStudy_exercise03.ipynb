{
  "nbformat": 4,
  "nbformat_minor": 0,
  "metadata": {
    "colab": {
      "name": "MLStudy_exercise03.ipynb",
      "provenance": [],
      "collapsed_sections": []
    },
    "kernelspec": {
      "name": "python3",
      "display_name": "Python 3"
    },
    "language_info": {
      "name": "python"
    }
  },
  "cells": [
    {
      "cell_type": "markdown",
      "metadata": {
        "id": "hoPJ716GZPsB"
      },
      "source": [
        "###  **최우추정법**"
      ]
    },
    {
      "cell_type": "code",
      "metadata": {
        "id": "hmTVJxI-YlQk"
      },
      "source": [
        "# 라이브러리 import\n",
        "import numpy as np\n",
        "import matplotlib.pyplot as plt\n",
        "import pandas as pd\n",
        "from numpy.random import normal"
      ],
      "execution_count": null,
      "outputs": []
    },
    {
      "cell_type": "code",
      "metadata": {
        "id": "ACWg--yAY1WE"
      },
      "source": [
        "# 파라미터 설정하기\n",
        "N=10                 # 샘플을 취득하는 위치 x의 개수\n",
        "M_list=[0,1,3,9]     # 그래프로 표현할 다항식의 차수"
      ],
      "execution_count": null,
      "outputs": []
    },
    {
      "cell_type": "code",
      "metadata": {
        "id": "aSuhzYuIY3Zr"
      },
      "source": [
        "# 데이터 셋 생성 함수(create_dataset) 선언하기\n",
        "# 데이터셋 {x_n,y_n} (n=1...N))\n",
        "def create_dataset(num):\n",
        "    dataset = pd.DataFrame(columns=['x','y'])\n",
        "    for i in range(num):\n",
        "        x = float(i)/float(num-1)\n",
        "        y = np.sin(2*np.pi*x) + normal(scale = 0.3)                 # scale은 standard deviation.\n",
        "        dataset = dataset.append(pd.Series([x,y],index=['x','y']),  # pandas.DataFrame.append(): 새로운 객체 반환.\n",
        "                                 ignore_index = True)               # index가 0, 1, ... \n",
        "    return dataset"
      ],
      "execution_count": null,
      "outputs": []
    },
    {
      "cell_type": "code",
      "metadata": {
        "colab": {
          "base_uri": "https://localhost:8080/",
          "height": 357
        },
        "id": "gjtGXNlbRtWJ",
        "outputId": "60a9faa8-ca8b-4387-935c-6c162f74544b"
      },
      "source": [
        "# 학습시킬 데이터 생성하기\n",
        "train_set = create_dataset(N)\n",
        "\n",
        "train_set"
      ],
      "execution_count": null,
      "outputs": [
        {
          "output_type": "execute_result",
          "data": {
            "text/html": [
              "<div>\n",
              "<style scoped>\n",
              "    .dataframe tbody tr th:only-of-type {\n",
              "        vertical-align: middle;\n",
              "    }\n",
              "\n",
              "    .dataframe tbody tr th {\n",
              "        vertical-align: top;\n",
              "    }\n",
              "\n",
              "    .dataframe thead th {\n",
              "        text-align: right;\n",
              "    }\n",
              "</style>\n",
              "<table border=\"1\" class=\"dataframe\">\n",
              "  <thead>\n",
              "    <tr style=\"text-align: right;\">\n",
              "      <th></th>\n",
              "      <th>x</th>\n",
              "      <th>y</th>\n",
              "    </tr>\n",
              "  </thead>\n",
              "  <tbody>\n",
              "    <tr>\n",
              "      <th>0</th>\n",
              "      <td>0.000000</td>\n",
              "      <td>-0.293400</td>\n",
              "    </tr>\n",
              "    <tr>\n",
              "      <th>1</th>\n",
              "      <td>0.111111</td>\n",
              "      <td>0.640217</td>\n",
              "    </tr>\n",
              "    <tr>\n",
              "      <th>2</th>\n",
              "      <td>0.222222</td>\n",
              "      <td>1.015924</td>\n",
              "    </tr>\n",
              "    <tr>\n",
              "      <th>3</th>\n",
              "      <td>0.333333</td>\n",
              "      <td>0.931085</td>\n",
              "    </tr>\n",
              "    <tr>\n",
              "      <th>4</th>\n",
              "      <td>0.444444</td>\n",
              "      <td>0.317147</td>\n",
              "    </tr>\n",
              "    <tr>\n",
              "      <th>5</th>\n",
              "      <td>0.555556</td>\n",
              "      <td>-0.058394</td>\n",
              "    </tr>\n",
              "    <tr>\n",
              "      <th>6</th>\n",
              "      <td>0.666667</td>\n",
              "      <td>-0.781758</td>\n",
              "    </tr>\n",
              "    <tr>\n",
              "      <th>7</th>\n",
              "      <td>0.777778</td>\n",
              "      <td>-0.646977</td>\n",
              "    </tr>\n",
              "    <tr>\n",
              "      <th>8</th>\n",
              "      <td>0.888889</td>\n",
              "      <td>-0.553780</td>\n",
              "    </tr>\n",
              "    <tr>\n",
              "      <th>9</th>\n",
              "      <td>1.000000</td>\n",
              "      <td>-0.028660</td>\n",
              "    </tr>\n",
              "  </tbody>\n",
              "</table>\n",
              "</div>"
            ],
            "text/plain": [
              "          x         y\n",
              "0  0.000000 -0.293400\n",
              "1  0.111111  0.640217\n",
              "2  0.222222  1.015924\n",
              "3  0.333333  0.931085\n",
              "4  0.444444  0.317147\n",
              "5  0.555556 -0.058394\n",
              "6  0.666667 -0.781758\n",
              "7  0.777778 -0.646977\n",
              "8  0.888889 -0.553780\n",
              "9  1.000000 -0.028660"
            ]
          },
          "metadata": {
            "tags": []
          },
          "execution_count": 4
        }
      ]
    },
    {
      "cell_type": "code",
      "metadata": {
        "id": "WyXG-XDqSBh4",
        "colab": {
          "base_uri": "https://localhost:8080/",
          "height": 299
        },
        "outputId": "4d459578-71df-4770-e366-3a5fbcdadc2e"
      },
      "source": [
        "# 트레인 데이터셋 출력\n",
        "X = train_set['x'] # X는 pandas.core.series.Series 객체. \n",
        "Y = train_set['y'] # Y는 pandas.core.series.Series 객체. \n",
        "\n",
        "plt.scatter(X,Y)\n",
        "plt.title('dataset')"
      ],
      "execution_count": null,
      "outputs": [
        {
          "output_type": "execute_result",
          "data": {
            "text/plain": [
              "Text(0.5, 1.0, 'dataset')"
            ]
          },
          "metadata": {
            "tags": []
          },
          "execution_count": 5
        },
        {
          "output_type": "display_data",
          "data": {
            "image/png": "[encoded data removed]",
            "text/plain": [
              "<Figure size 432x288 with 1 Axes>"
            ]
          },
          "metadata": {
            "tags": [],
            "needs_background": "light"
          }
        }
      ]
    },
    {
      "cell_type": "code",
      "metadata": {
        "id": "nwqT2H29Vilh",
        "colab": {
          "base_uri": "https://localhost:8080/"
        },
        "outputId": "a4876349-4e4f-4ab5-c00f-54bdccb4d48f"
      },
      "source": [
        "# M이 2이고, N = 10일 때 최우추정법으로 추정하기 (다항식의 w값 찾기) \n",
        "\n",
        "# 정규분포를 가정하였기 때문에, 최소제곱법(exercise02)과 동일한 방법으로 계산 가능함\n",
        "\n",
        "# w: (3,1) matrix\n",
        "# phi: (10,3) matrix\n",
        "# wT * phiT * phi - tT * phi = 0\n",
        "# w = inv(phiT * phi) * phiT * t\n",
        "\n",
        "M = 2\n",
        "\n",
        "t = train_set.y                           # {t}: (N, 1) matrix (vector)\n",
        "phi = pd.DataFrame()\n",
        "for i in range(0,M+1): \n",
        "    p = train_set.x**i\n",
        "    p.name=\"x**%d\" % i \n",
        "    phi = pd.concat([phi,p], axis=1)        # phi matrix에 새로운 column 추가. \n",
        "\n",
        "tmp = np.linalg.inv(np.dot(phi.T, phi))     # tmp = inv(phiT * phi)\n",
        "w = np.dot(np.dot(tmp, phi.T), t)           # ws = inv(phiT * phi) * phiT * t\n",
        "\n",
        "print(\"w is \" + str(w.shape) + \" matrix\")\n",
        "print(w)"
      ],
      "execution_count": null,
      "outputs": [
        {
          "output_type": "stream",
          "text": [
            "w is (3,) matrix\n",
            "[ 0.43009132  0.02783822 -1.10805147]\n"
          ],
          "name": "stdout"
        }
      ]
    },
    {
      "cell_type": "code",
      "metadata": {
        "colab": {
          "base_uri": "https://localhost:8080/"
        },
        "cellView": "code",
        "id": "oursLKmnZeFe",
        "outputId": "18b25a9f-213a-42bf-c402-b9fa0ce3669e"
      },
      "source": [
        "# M이 2이고, N = 10일 때 최우추정법으로 추정하기 (표준편차(sigma)값 찾기) \n",
        "\n",
        "# 표준편차 계산\n",
        "# sigma = (1/b)**0.5 = (2*Ed/N)**0.5 = Erms\n",
        "\n",
        "def f(x,w):\n",
        "    y = 0.0\n",
        "    for i, w in enumerate(w):\n",
        "        y += w * (x ** i)\n",
        "    return y\n",
        "\n",
        "sigma2 = 0.0  \n",
        "\n",
        "for index, line in train_set.iterrows():\n",
        "    x, y = line.x, line.y\n",
        "    sigma2 += (f(x,w)-y)**2\n",
        "\n",
        "sigma2 /= len(train_set)\n",
        "sigma = np.sqrt(sigma2)\n",
        "\n",
        "print(\"{:.2f}\".format(sigma))"
      ],
      "execution_count": null,
      "outputs": [
        {
          "output_type": "stream",
          "text": [
            "0.50\n"
          ],
          "name": "stdout"
        }
      ]
    },
    {
      "cell_type": "code",
      "metadata": {
        "id": "qyfg9cpnZG4f"
      },
      "source": [
        "# 최우추정법으로 계산하는 함수 선언하기\n",
        "def resolve(dataset, m):\n",
        "    t = dataset.y\n",
        "    phi = pd.DataFrame()\n",
        "    for i in range(0,m+1):\n",
        "        p = dataset.x**i\n",
        "        p.name=\"x**%d\" % i\n",
        "        phi = pd.concat([phi,p], axis=1)\n",
        "    tmp = np.linalg.inv(np.dot(phi.T, phi))\n",
        "    ws = np.dot(np.dot(tmp, phi.T), t)\n",
        "\n",
        "    def f(x):\n",
        "        y = 0.0\n",
        "        for i, w in enumerate(ws):\n",
        "          y += w * (x ** i)\n",
        "        return y\n",
        "\n",
        "    sigma2 = 0.0 \n",
        "    for index, line in dataset.iterrows():\n",
        "      sigma2 += (f(line.x)-line.y)**2\n",
        "    sigma2 /= len(dataset)\n",
        "\n",
        "    return (f, ws, np.sqrt(sigma2))"
      ],
      "execution_count": null,
      "outputs": []
    },
    {
      "cell_type": "code",
      "metadata": {
        "colab": {
          "base_uri": "https://localhost:8080/",
          "height": 375
        },
        "id": "EHSu5NVVTCCV",
        "outputId": "30d557a7-d0e8-40ae-e727-32168bb4caf7"
      },
      "source": [
        "# w matrix 구하기(다항식 차수에 따른 w 값들)\n",
        "df_ws = pd.DataFrame()\n",
        "\n",
        "for c, m in enumerate(range(N)):\n",
        "    f, ws, sigma = resolve(train_set, m)\n",
        "    df_ws = df_ws.append(pd.Series(ws,name=\"M=%d\" % m))\n",
        "pd.options.display.float_format = \"{:,.2f}\".format\n",
        "print(\"Table of the coefficients\")\n",
        "df_ws"
      ],
      "execution_count": null,
      "outputs": [
        {
          "output_type": "stream",
          "text": [
            "Table of the coefficients\n"
          ],
          "name": "stdout"
        },
        {
          "output_type": "execute_result",
          "data": {
            "text/html": [
              "<div>\n",
              "<style scoped>\n",
              "    .dataframe tbody tr th:only-of-type {\n",
              "        vertical-align: middle;\n",
              "    }\n",
              "\n",
              "    .dataframe tbody tr th {\n",
              "        vertical-align: top;\n",
              "    }\n",
              "\n",
              "    .dataframe thead th {\n",
              "        text-align: right;\n",
              "    }\n",
              "</style>\n",
              "<table border=\"1\" class=\"dataframe\">\n",
              "  <thead>\n",
              "    <tr style=\"text-align: right;\">\n",
              "      <th></th>\n",
              "      <th>0</th>\n",
              "      <th>1</th>\n",
              "      <th>2</th>\n",
              "      <th>3</th>\n",
              "      <th>4</th>\n",
              "      <th>5</th>\n",
              "      <th>6</th>\n",
              "      <th>7</th>\n",
              "      <th>8</th>\n",
              "      <th>9</th>\n",
              "    </tr>\n",
              "  </thead>\n",
              "  <tbody>\n",
              "    <tr>\n",
              "      <th>M=0</th>\n",
              "      <td>0.05</td>\n",
              "      <td>nan</td>\n",
              "      <td>nan</td>\n",
              "      <td>nan</td>\n",
              "      <td>nan</td>\n",
              "      <td>nan</td>\n",
              "      <td>nan</td>\n",
              "      <td>nan</td>\n",
              "      <td>nan</td>\n",
              "      <td>nan</td>\n",
              "    </tr>\n",
              "    <tr>\n",
              "      <th>M=1</th>\n",
              "      <td>0.59</td>\n",
              "      <td>-1.08</td>\n",
              "      <td>nan</td>\n",
              "      <td>nan</td>\n",
              "      <td>nan</td>\n",
              "      <td>nan</td>\n",
              "      <td>nan</td>\n",
              "      <td>nan</td>\n",
              "      <td>nan</td>\n",
              "      <td>nan</td>\n",
              "    </tr>\n",
              "    <tr>\n",
              "      <th>M=2</th>\n",
              "      <td>0.43</td>\n",
              "      <td>0.03</td>\n",
              "      <td>-1.11</td>\n",
              "      <td>nan</td>\n",
              "      <td>nan</td>\n",
              "      <td>nan</td>\n",
              "      <td>nan</td>\n",
              "      <td>nan</td>\n",
              "      <td>nan</td>\n",
              "      <td>nan</td>\n",
              "    </tr>\n",
              "    <tr>\n",
              "      <th>M=3</th>\n",
              "      <td>-0.27</td>\n",
              "      <td>11.60</td>\n",
              "      <td>-31.62</td>\n",
              "      <td>20.34</td>\n",
              "      <td>nan</td>\n",
              "      <td>nan</td>\n",
              "      <td>nan</td>\n",
              "      <td>nan</td>\n",
              "      <td>nan</td>\n",
              "      <td>nan</td>\n",
              "    </tr>\n",
              "    <tr>\n",
              "      <th>M=4</th>\n",
              "      <td>-0.33</td>\n",
              "      <td>13.70</td>\n",
              "      <td>-42.19</td>\n",
              "      <td>37.29</td>\n",
              "      <td>-8.47</td>\n",
              "      <td>nan</td>\n",
              "      <td>nan</td>\n",
              "      <td>nan</td>\n",
              "      <td>nan</td>\n",
              "      <td>nan</td>\n",
              "    </tr>\n",
              "    <tr>\n",
              "      <th>M=5</th>\n",
              "      <td>-0.29</td>\n",
              "      <td>10.58</td>\n",
              "      <td>-16.17</td>\n",
              "      <td>-36.24</td>\n",
              "      <td>75.80</td>\n",
              "      <td>-33.71</td>\n",
              "      <td>nan</td>\n",
              "      <td>nan</td>\n",
              "      <td>nan</td>\n",
              "      <td>nan</td>\n",
              "    </tr>\n",
              "    <tr>\n",
              "      <th>M=6</th>\n",
              "      <td>-0.29</td>\n",
              "      <td>9.85</td>\n",
              "      <td>-7.22</td>\n",
              "      <td>-74.78</td>\n",
              "      <td>150.29</td>\n",
              "      <td>-99.97</td>\n",
              "      <td>22.09</td>\n",
              "      <td>nan</td>\n",
              "      <td>nan</td>\n",
              "      <td>nan</td>\n",
              "    </tr>\n",
              "    <tr>\n",
              "      <th>M=7</th>\n",
              "      <td>-0.29</td>\n",
              "      <td>12.67</td>\n",
              "      <td>-53.80</td>\n",
              "      <td>201.43</td>\n",
              "      <td>-630.73</td>\n",
              "      <td>1,038.98</td>\n",
              "      <td>-804.45</td>\n",
              "      <td>236.15</td>\n",
              "      <td>nan</td>\n",
              "      <td>nan</td>\n",
              "    </tr>\n",
              "    <tr>\n",
              "      <th>M=8</th>\n",
              "      <td>-0.29</td>\n",
              "      <td>-2.07</td>\n",
              "      <td>243.59</td>\n",
              "      <td>-2,041.62</td>\n",
              "      <td>7,831.08</td>\n",
              "      <td>-16,577.68</td>\n",
              "      <td>19,748.32</td>\n",
              "      <td>-12,347.18</td>\n",
              "      <td>3,145.83</td>\n",
              "      <td>nan</td>\n",
              "    </tr>\n",
              "    <tr>\n",
              "      <th>M=9</th>\n",
              "      <td>-0.29</td>\n",
              "      <td>99.93</td>\n",
              "      <td>-2,112.66</td>\n",
              "      <td>19,182.27</td>\n",
              "      <td>-91,877.34</td>\n",
              "      <td>255,068.69</td>\n",
              "      <td>-425,061.60</td>\n",
              "      <td>419,095.59</td>\n",
              "      <td>-225,121.04</td>\n",
              "      <td>50,726.42</td>\n",
              "    </tr>\n",
              "  </tbody>\n",
              "</table>\n",
              "</div>"
            ],
            "text/plain": [
              "        0     1         2  ...          7           8         9\n",
              "M=0  0.05   nan       nan  ...        nan         nan       nan\n",
              "M=1  0.59 -1.08       nan  ...        nan         nan       nan\n",
              "M=2  0.43  0.03     -1.11  ...        nan         nan       nan\n",
              "M=3 -0.27 11.60    -31.62  ...        nan         nan       nan\n",
              "M=4 -0.33 13.70    -42.19  ...        nan         nan       nan\n",
              "M=5 -0.29 10.58    -16.17  ...        nan         nan       nan\n",
              "M=6 -0.29  9.85     -7.22  ...        nan         nan       nan\n",
              "M=7 -0.29 12.67    -53.80  ...     236.15         nan       nan\n",
              "M=8 -0.29 -2.07    243.59  ... -12,347.18    3,145.83       nan\n",
              "M=9 -0.29 99.93 -2,112.66  ... 419,095.59 -225,121.04 50,726.42\n",
              "\n",
              "[10 rows x 10 columns]"
            ]
          },
          "metadata": {
            "tags": []
          },
          "execution_count": 13
        }
      ]
    },
    {
      "cell_type": "code",
      "metadata": {
        "colab": {
          "base_uri": "https://localhost:8080/",
          "height": 456
        },
        "id": "t4h1lq8jZH8F",
        "outputId": "b5c4964e-3906-4b80-9149-76fbf488abeb"
      },
      "source": [
        "# 최우추정법으로 다항식 근사치를 구한 결과 시각화 하기\n",
        "fig_width = 3*2\n",
        "fig_height = 3*(int(len(M_list)/2)+1)\n",
        "fig = plt.figure(figsize = (fig_width, fig_height))\n",
        "\n",
        "for c, M in enumerate(M_list):\n",
        "    f, ws, sigma = resolve(train_set, M)\n",
        "    df_ws = df_ws.append(pd.Series(ws,name=\"M=%d\" % M))\n",
        "\n",
        "    subplot = fig.add_subplot(int(len(M_list)/2)+1, 2, c+1)\n",
        "    subplot.set_xlim(-0.05,1.05)\n",
        "    subplot.set_ylim(-1.5,1.5)\n",
        "    subplot.set_title(\"M=%d\" % M)\n",
        "\n",
        "    # 트레이닝 세트 표시\n",
        "    subplot.scatter(train_set.x, train_set.y, marker='o', color='blue')\n",
        "\n",
        "    # sin곡선을 표시\n",
        "    linex = np.linspace(0,1,101)    # numpy.ndarray (101,)\n",
        "    liney = np.sin(2*np.pi*linex)   # numpy.ndarray (101,)\n",
        "    subplot.plot(linex, liney, color='green', linestyle='--')\n",
        "\n",
        "    # 근사 곡선 및 표준편차 표시\n",
        "    linex = np.linspace(0,1,101)   # numpy.ndarray (101,)\n",
        "    liney = f(linex)\n",
        "    label = \"Sigma=%.2f\" % sigma\n",
        "    subplot.plot(linex, liney, color='red', label=label)\n",
        "    subplot.plot(linex, liney+sigma, color='red', linestyle='--')\n",
        "    subplot.plot(linex, liney-sigma, color='red', linestyle='--')\n",
        "    subplot.legend(loc=1)\n",
        "\n",
        "fig.tight_layout()\n",
        "fig.show()"
      ],
      "execution_count": null,
      "outputs": [
        {
          "output_type": "display_data",
          "data": {
            "image/png": "[encoded data removed]",
            "text/plain": [
              "<Figure size 432x648 with 4 Axes>"
            ]
          },
          "metadata": {
            "tags": [],
            "needs_background": "light"
          }
        }
      ]
    },
    {
      "cell_type": "code",
      "metadata": {
        "id": "n226u7xsZF2H"
      },
      "source": [
        "# 우도 계산하는 함수(log_likelihood) 선언하기\n",
        "def log_likelihood(dataset, f):\n",
        "    dev = 0.0                   # dev: deviation \n",
        "                                # sigma = (dev / N) ** 0.05            \n",
        "    n = float(len(dataset))\n",
        "\n",
        "    for index, line in dataset.iterrows():\n",
        "        x, y = line.x, line.y\n",
        "        dev += (y - f(x))**2\n",
        "    \n",
        "    err = dev * 0.5             # err: Ed\n",
        "    beta = n / dev\n",
        "    lp = 0.5*n*np.log(beta) + 0.5*n*np.log(2*np.pi) - beta*err\n",
        "\n",
        "    return lp"
      ],
      "execution_count": null,
      "outputs": []
    },
    {
      "cell_type": "code",
      "metadata": {
        "colab": {
          "base_uri": "https://localhost:8080/",
          "height": 497
        },
        "id": "FYcTcppjShm0",
        "outputId": "55eddfdd-7f98-4dde-a255-6c31a799a240"
      },
      "source": [
        "# 트레이닝 셋과 테스트 셋에 대한 우도 시각화\n",
        "\n",
        "df = pd.DataFrame()\n",
        "test_set = create_dataset(N)\n",
        "\n",
        "train_mlh = []\n",
        "test_mlh = []\n",
        "for m in range(0,9): \n",
        "    f, ws, sigma = resolve(train_set, m)\n",
        "    train_mlh.append(log_likelihood(train_set, f))\n",
        "    test_mlh.append(log_likelihood(test_set, f))\n",
        "\n",
        "df = pd.concat([df,\n",
        "                pd.DataFrame(train_mlh, columns=['Training set']),\n",
        "                pd.DataFrame(test_mlh, columns=['Test set'])],\n",
        "                axis=1)\n",
        "\n",
        "print(df)\n",
        "df.plot(title='Log likelihood for N=%d' % N, grid=True, style=['-','--'])"
      ],
      "execution_count": null,
      "outputs": [
        {
          "output_type": "stream",
          "text": [
            "   Training set  Test set\n",
            "0          9.02      6.25\n",
            "1         10.89      8.31\n",
            "2         11.08      7.91\n",
            "3         26.52     14.84\n",
            "4         27.89     14.63\n",
            "5         29.61     14.73\n",
            "6         29.65     14.70\n",
            "7         29.86     14.67\n",
            "8         31.01     14.72\n",
            "9         85.81     14.66\n"
          ],
          "name": "stdout"
        },
        {
          "output_type": "execute_result",
          "data": {
            "text/plain": [
              "<matplotlib.axes._subplots.AxesSubplot at 0x7f567e43fa50>"
            ]
          },
          "metadata": {
            "tags": []
          },
          "execution_count": 19
        },
        {
          "output_type": "display_data",
          "data": {
            "image/png": "[encoded data removed]",
            "text/plain": [
              "<Figure size 432x288 with 1 Axes>"
            ]
          },
          "metadata": {
            "tags": [],
            "needs_background": "light"
          }
        }
      ]
    }
  ]
}