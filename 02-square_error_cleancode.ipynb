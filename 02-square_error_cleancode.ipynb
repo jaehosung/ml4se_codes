{
 "cells": [
  {
   "cell_type": "code",
   "execution_count": 76,
   "metadata": {},
   "outputs": [],
   "source": [
    "#라이브러리 import\n",
    "import numpy as np\n",
    "import matplotlib.pyplot as plt\n",
    "import pandas as pd\n",
    "from numpy.random import normal\n",
    "from pandas import Series, DataFrame\n",
    "from numpy.random import normal"
   ]
  },
  {
   "cell_type": "code",
   "execution_count": 77,
   "metadata": {},
   "outputs": [],
   "source": [
    "#------------#\n",
    "# Parameters #\n",
    "#------------#\n",
    "\n",
    "N=10            # 샘플을 취득하는 위치 x의 개수\n",
    "M=[0,1,3,9]     # 그래프로 표현할 다항식의 차수"
   ]
  },
  {
   "cell_type": "code",
   "execution_count": 78,
   "metadata": {},
   "outputs": [],
   "source": [
    "# 데이터 셋 생성 함수 만들기\n",
    "def create_dataset(num):\n",
    "    dataset = DataFrame(columns=['x','y'])\n",
    "    for i in range(num):\n",
    "        x = float(i)/float(num-1)\n",
    "        y = np.sin(2*np.pi*x) + normal(scale = 0.3) #add error\n",
    "        dataset = dataset.append(Series([x,y],index=('x','y')),\n",
    "                                 ignore_index = True)\n",
    "    return dataset"
   ]
  },
  {
   "cell_type": "code",
   "execution_count": 86,
   "metadata": {},
   "outputs": [],
   "source": [
    "# 데이터 셋 생성\n",
    "train_set = create_dataset(N)\n",
    "test_set = create_dataset(N)"
   ]
  },
  {
   "cell_type": "code",
   "execution_count": 87,
   "metadata": {},
   "outputs": [
    {
     "name": "stdout",
     "output_type": "stream",
     "text": [
      "     x     y\n",
      "0 0.00 -0.35\n",
      "1 0.11  0.58\n",
      "2 0.22  0.78\n",
      "3 0.33  0.36\n",
      "4 0.44  0.47\n",
      "5 0.56 -0.08\n",
      "6 0.67 -0.83\n",
      "7 0.78 -0.77\n",
      "8 0.89 -0.29\n",
      "9 1.00 -0.77\n"
     ]
    },
    {
     "data": {
      "image/png": "[encoded data removed]",
      "text/plain": [
       "<Figure size 432x288 with 1 Axes>"
      ]
     },
     "metadata": {
      "needs_background": "light"
     },
     "output_type": "display_data"
    }
   ],
   "source": [
    "df_ws = DataFrame()\n",
    "\n",
    "X = train_set['x']\n",
    "Y = train_set['y']\n",
    "\n",
    "plt.scatter(X,Y)\n",
    "plt.title('dataset')\n",
    "\n",
    "print(train_set)"
   ]
  },
  {
   "cell_type": "code",
   "execution_count": 88,
   "metadata": {},
   "outputs": [],
   "source": [
    "# 제곱근 평균 제곱 오차(Root mean square error) 계산\n",
    "def rms_error(dataset, f):\n",
    "    err = 0.0\n",
    "    # x value: line.x  y value: line.y\n",
    "    for index, line in dataset.iterrows():\n",
    "        x, y = line.x, line.y\n",
    "        err += 0.5 * (y - f(x))**2\n",
    "    return np.sqrt(2 * err / len(dataset))"
   ]
  },
  {
   "cell_type": "code",
   "execution_count": 82,
   "metadata": {},
   "outputs": [],
   "source": [
    "# 최소 제곱법으로 계산하기\n",
    "\n",
    "# w를 찾는 것\n",
    "\n",
    "# w: (M+1,1) matrix\n",
    "# phi: (N,M+1) matrix\n",
    "# wT * phiT * phi - tT * phi = 0\n",
    "# w = inv(phiT * phi) * phiT * t\n",
    "\n",
    "def resolve(dataset, m):\n",
    "    t = dataset.y\n",
    "    phi = DataFrame()\n",
    "    \n",
    "    for i in range(0,m+1):\n",
    "        p = dataset.x**i\n",
    "        p.name=\"x**%d\" % i\n",
    "        phi = pd.concat([phi,p], axis=1)\n",
    "    tmp = np.linalg.inv(np.dot(phi.T, phi))\n",
    "    ws = np.dot(np.dot(tmp, phi.T), t)\n",
    "\n",
    "    # 다항식 근사 계산 함수\n",
    "    def f(x):\n",
    "        y = 0\n",
    "        for i, w in enumerate(ws):\n",
    "            y += w * (x ** i)\n",
    "        return y\n",
    "\n",
    "    return (f, ws)"
   ]
  },
  {
   "cell_type": "code",
   "execution_count": 93,
   "metadata": {},
   "outputs": [
    {
     "name": "stdout",
     "output_type": "stream",
     "text": [
      "Table of the coefficients\n"
     ]
    },
    {
     "data": {
      "text/html": [
       "<div>\n",
       "<style scoped>\n",
       "    .dataframe tbody tr th:only-of-type {\n",
       "        vertical-align: middle;\n",
       "    }\n",
       "\n",
       "    .dataframe tbody tr th {\n",
       "        vertical-align: top;\n",
       "    }\n",
       "\n",
       "    .dataframe thead th {\n",
       "        text-align: right;\n",
       "    }\n",
       "</style>\n",
       "<table border=\"1\" class=\"dataframe\">\n",
       "  <thead>\n",
       "    <tr style=\"text-align: right;\">\n",
       "      <th></th>\n",
       "      <th>M=0</th>\n",
       "      <th>M=1</th>\n",
       "      <th>M=2</th>\n",
       "      <th>M=3</th>\n",
       "      <th>M=4</th>\n",
       "      <th>M=5</th>\n",
       "      <th>M=6</th>\n",
       "      <th>M=7</th>\n",
       "      <th>M=8</th>\n",
       "      <th>M=9</th>\n",
       "    </tr>\n",
       "  </thead>\n",
       "  <tbody>\n",
       "    <tr>\n",
       "      <th>0</th>\n",
       "      <td>-0.09</td>\n",
       "      <td>0.50</td>\n",
       "      <td>0.21</td>\n",
       "      <td>-0.24</td>\n",
       "      <td>-0.37</td>\n",
       "      <td>-0.30</td>\n",
       "      <td>-0.36</td>\n",
       "      <td>-0.36</td>\n",
       "      <td>-0.35</td>\n",
       "      <td>-0.35</td>\n",
       "    </tr>\n",
       "    <tr>\n",
       "      <th>1</th>\n",
       "      <td>NaN</td>\n",
       "      <td>-1.18</td>\n",
       "      <td>0.77</td>\n",
       "      <td>8.18</td>\n",
       "      <td>13.11</td>\n",
       "      <td>7.30</td>\n",
       "      <td>22.14</td>\n",
       "      <td>17.26</td>\n",
       "      <td>-21.73</td>\n",
       "      <td>-60.63</td>\n",
       "    </tr>\n",
       "    <tr>\n",
       "      <th>2</th>\n",
       "      <td>NaN</td>\n",
       "      <td>NaN</td>\n",
       "      <td>-1.95</td>\n",
       "      <td>-21.49</td>\n",
       "      <td>-46.40</td>\n",
       "      <td>2.03</td>\n",
       "      <td>-181.02</td>\n",
       "      <td>-100.54</td>\n",
       "      <td>685.81</td>\n",
       "      <td>1,584.27</td>\n",
       "    </tr>\n",
       "    <tr>\n",
       "      <th>3</th>\n",
       "      <td>NaN</td>\n",
       "      <td>NaN</td>\n",
       "      <td>NaN</td>\n",
       "      <td>13.02</td>\n",
       "      <td>52.99</td>\n",
       "      <td>-83.92</td>\n",
       "      <td>703.93</td>\n",
       "      <td>226.68</td>\n",
       "      <td>-5,704.37</td>\n",
       "      <td>-13,797.18</td>\n",
       "    </tr>\n",
       "    <tr>\n",
       "      <th>4</th>\n",
       "      <td>NaN</td>\n",
       "      <td>NaN</td>\n",
       "      <td>NaN</td>\n",
       "      <td>NaN</td>\n",
       "      <td>-19.98</td>\n",
       "      <td>136.95</td>\n",
       "      <td>-1,385.55</td>\n",
       "      <td>-36.12</td>\n",
       "      <td>22,338.46</td>\n",
       "      <td>60,357.58</td>\n",
       "    </tr>\n",
       "    <tr>\n",
       "      <th>5</th>\n",
       "      <td>NaN</td>\n",
       "      <td>NaN</td>\n",
       "      <td>NaN</td>\n",
       "      <td>NaN</td>\n",
       "      <td>NaN</td>\n",
       "      <td>-62.77</td>\n",
       "      <td>1,291.51</td>\n",
       "      <td>-676.35</td>\n",
       "      <td>-47,258.07</td>\n",
       "      <td>-150,836.81</td>\n",
       "    </tr>\n",
       "    <tr>\n",
       "      <th>6</th>\n",
       "      <td>NaN</td>\n",
       "      <td>NaN</td>\n",
       "      <td>NaN</td>\n",
       "      <td>NaN</td>\n",
       "      <td>NaN</td>\n",
       "      <td>NaN</td>\n",
       "      <td>-451.43</td>\n",
       "      <td>976.66</td>\n",
       "      <td>55,322.01</td>\n",
       "      <td>224,926.74</td>\n",
       "    </tr>\n",
       "    <tr>\n",
       "      <th>7</th>\n",
       "      <td>NaN</td>\n",
       "      <td>NaN</td>\n",
       "      <td>NaN</td>\n",
       "      <td>NaN</td>\n",
       "      <td>NaN</td>\n",
       "      <td>NaN</td>\n",
       "      <td>NaN</td>\n",
       "      <td>-408.03</td>\n",
       "      <td>-33,680.69</td>\n",
       "      <td>-198,187.47</td>\n",
       "    </tr>\n",
       "    <tr>\n",
       "      <th>8</th>\n",
       "      <td>NaN</td>\n",
       "      <td>NaN</td>\n",
       "      <td>NaN</td>\n",
       "      <td>NaN</td>\n",
       "      <td>NaN</td>\n",
       "      <td>NaN</td>\n",
       "      <td>NaN</td>\n",
       "      <td>NaN</td>\n",
       "      <td>8,318.17</td>\n",
       "      <td>95,354.57</td>\n",
       "    </tr>\n",
       "    <tr>\n",
       "      <th>9</th>\n",
       "      <td>NaN</td>\n",
       "      <td>NaN</td>\n",
       "      <td>NaN</td>\n",
       "      <td>NaN</td>\n",
       "      <td>NaN</td>\n",
       "      <td>NaN</td>\n",
       "      <td>NaN</td>\n",
       "      <td>NaN</td>\n",
       "      <td>NaN</td>\n",
       "      <td>-19,341.49</td>\n",
       "    </tr>\n",
       "  </tbody>\n",
       "</table>\n",
       "</div>"
      ],
      "text/plain": [
       "    M=0   M=1   M=2    M=3    M=4    M=5       M=6     M=7        M=8  \\\n",
       "0 -0.09  0.50  0.21  -0.24  -0.37  -0.30     -0.36   -0.36      -0.35   \n",
       "1   NaN -1.18  0.77   8.18  13.11   7.30     22.14   17.26     -21.73   \n",
       "2   NaN   NaN -1.95 -21.49 -46.40   2.03   -181.02 -100.54     685.81   \n",
       "3   NaN   NaN   NaN  13.02  52.99 -83.92    703.93  226.68  -5,704.37   \n",
       "4   NaN   NaN   NaN    NaN -19.98 136.95 -1,385.55  -36.12  22,338.46   \n",
       "5   NaN   NaN   NaN    NaN    NaN -62.77  1,291.51 -676.35 -47,258.07   \n",
       "6   NaN   NaN   NaN    NaN    NaN    NaN   -451.43  976.66  55,322.01   \n",
       "7   NaN   NaN   NaN    NaN    NaN    NaN       NaN -408.03 -33,680.69   \n",
       "8   NaN   NaN   NaN    NaN    NaN    NaN       NaN     NaN   8,318.17   \n",
       "9   NaN   NaN   NaN    NaN    NaN    NaN       NaN     NaN        NaN   \n",
       "\n",
       "          M=9  \n",
       "0       -0.35  \n",
       "1      -60.63  \n",
       "2    1,584.27  \n",
       "3  -13,797.18  \n",
       "4   60,357.58  \n",
       "5 -150,836.81  \n",
       "6  224,926.74  \n",
       "7 -198,187.47  \n",
       "8   95,354.57  \n",
       "9  -19,341.49  "
      ]
     },
     "execution_count": 93,
     "metadata": {},
     "output_type": "execute_result"
    }
   ],
   "source": [
    "# w matrix 구하기\n",
    "\n",
    "df_ws = DataFrame()\n",
    "\n",
    "for c, m in enumerate(range(0,m+1)):\n",
    "    f, ws = resolve(train_set, m)\n",
    "    df_ws = df_ws.append(Series(ws,name=\"M=%d\" % m))\n",
    "\n",
    "pd.options.display.float_format = \"{:,.2f}\".format\n",
    "print(\"Table of the coefficients\")\n",
    "df_ws.transpose()"
   ]
  },
  {
   "cell_type": "code",
   "execution_count": 94,
   "metadata": {},
   "outputs": [
    {
     "data": {
      "image/png": "[encoded data removed]",
      "text/plain": [
       "<Figure size 432x288 with 4 Axes>"
      ]
     },
     "metadata": {
      "needs_background": "light"
     },
     "output_type": "display_data"
    }
   ],
   "source": [
    "# 다항식 근사의 곡선을 구하여 표시\n",
    "\n",
    "fig = plt.figure()\n",
    "\n",
    "for c, m in enumerate(M):\n",
    "    f, ws = resolve(train_set, m)\n",
    "    df_ws = df_ws.append(Series(ws,name=\"M=%d\" % m))\n",
    "\n",
    "\n",
    "    \n",
    "    subplot = fig.add_subplot(2,2,c+1)\n",
    "    subplot.set_xlim(-0.05,1.05)\n",
    "    subplot.set_ylim(-1.5,1.5)\n",
    "    subplot.set_title(\"M=%d\" % m)\n",
    "\n",
    "    # 트레이닝 세트 표시\n",
    "    subplot.scatter(train_set.x, train_set.y, marker='o', color='blue')\n",
    "\n",
    "    # sin곡선을 표시\n",
    "    linex = np.linspace(0,1,101)\n",
    "    liney = np.sin(2*np.pi*linex)\n",
    "    subplot.plot(linex, liney, color='green', linestyle='--')\n",
    "\n",
    "    # 근사 곡선 표시\n",
    "    linex = np.linspace(0,1,101)\n",
    "    liney = f(linex)\n",
    "    \n",
    "    # error값 표시\n",
    "    label = \"E(RMS)=%.2f\" % rms_error(train_set, f)\n",
    "    subplot.plot(linex, liney, color='red', label=label)\n",
    "    subplot.legend(loc=1)\n",
    "\n",
    "fig.tight_layout()"
   ]
  },
  {
   "cell_type": "code",
   "execution_count": 85,
   "metadata": {},
   "outputs": [
    {
     "data": {
      "text/plain": [
       "<AxesSubplot:title={'center':'RMS Error'}>"
      ]
     },
     "execution_count": 85,
     "metadata": {},
     "output_type": "execute_result"
    },
    {
     "data": {
      "image/png": "[encoded data removed]",
      "text/plain": [
       "<Figure size 432x288 with 1 Axes>"
      ]
     },
     "metadata": {
      "needs_background": "light"
     },
     "output_type": "display_data"
    }
   ],
   "source": [
    "# 트레이닝 세트와 테스트 세트 오차 차이\n",
    "df = DataFrame(columns=['Training set','Test set'])\n",
    "for m in range(0,10):\n",
    "    f, ws = resolve(train_set, m)\n",
    "    train_error = rms_error(train_set, f)\n",
    "    test_error = rms_error(test_set, f)\n",
    "    df = df.append(\n",
    "            Series([train_error, test_error],\n",
    "                index=['Training set','Test set']),\n",
    "            ignore_index=True)\n",
    "df.plot(title='RMS Error', style=['-','--'], grid=True, ylim=(0,0.9))"
   ]
  }
 ],
 "metadata": {
  "kernelspec": {
   "display_name": "Python 3",
   "language": "python",
   "name": "python3"
  },
  "language_info": {
   "codemirror_mode": {
    "name": "ipython",
    "version": 3
   },
   "file_extension": ".py",
   "mimetype": "text/x-python",
   "name": "python",
   "nbconvert_exporter": "python",
   "pygments_lexer": "ipython3",
   "version": "3.9.2"
  }
 },
 "nbformat": 4,
 "nbformat_minor": 2
}
